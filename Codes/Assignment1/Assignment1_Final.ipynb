{
 "cells": [
  {
   "cell_type": "markdown",
   "metadata": {},
   "source": [
    "<table class=\"tfo-notebook-buttons\" align=\"left\">\n",
    "<td style=\"border: none;\">\n",
    "<a target=\"blank\" href=\"https://colab.research.google.com/github/Hari31416/PYL800/blob/main/Codes/Assignment1/Assignment1_Final.ipynb?hl=en\"><img src=\"https://colab.research.google.com/img/colab_favicon_256px.png\" width=\"28\" height=\"28\"/>Run on Google Colab</a></td>\n",
    "<td style=\"border: none;\">\n",
    "<a target=\"blank\" href=\"https://github.com/Hari31416/PYL800/blob/main/Codes/Assignment1/Assignment1_Final.ipynb\"><img src=\"https://cdn.icon-icons.com/icons2/2368/PNG/512/github_logo_icon_143772.png\" width=\"28\" height=\"28\"/>View on Github</a></td>\n",
    "<td style=\"border: none;\">\n",
    "</table>"
   ]
  },
  {
   "cell_type": "markdown",
   "metadata": {},
   "source": [
    "## Imports"
   ]
  },
  {
   "cell_type": "code",
   "execution_count": 1,
   "metadata": {},
   "outputs": [],
   "source": [
    "import numpy as np\n",
    "import matplotlib.pyplot as plt\n",
    "from sympy import *"
   ]
  },
  {
   "cell_type": "markdown",
   "metadata": {},
   "source": [
    "### Defining a Function to get the energy corresponding to a given K."
   ]
  },
  {
   "cell_type": "code",
   "execution_count": 2,
   "metadata": {},
   "outputs": [],
   "source": [
    "def give_energy(K, h=1, m=1):\n",
    "    \"\"\"\n",
    "    This function calculates the energy of a particle in a potential\n",
    "    field.\n",
    "    \"\"\"\n",
    "    return (h**2*K**2)/(2*m)\n",
    "\n",
    "give_energy = np.vectorize(give_energy)"
   ]
  },
  {
   "cell_type": "markdown",
   "metadata": {},
   "source": [
    "## Solution"
   ]
  },
  {
   "cell_type": "markdown",
   "metadata": {},
   "source": [
    "### Defining the Matrix"
   ]
  },
  {
   "cell_type": "markdown",
   "metadata": {},
   "source": [
    "The final matrix, that we get is:\n",
    "$$M = \n",
    "\\begin{bmatrix}\n",
    "\\frac{\\hbar^2K^2}{2m}-E & V_{\\frac{-2\\pi}{a}}& V_{\\frac{2\\pi}{a}} \\\\\n",
    "V_{\\frac{2\\pi}{a}} & \\frac{\\hbar^2(K+\\frac{2\\pi}{a})^2}{2m}-E & V_{\\frac{4\\pi}{a}} \\\\\n",
    "V_{\\frac{-2\\pi}{a}} & V_{\\frac{-4\\pi}{a}} & \\frac{\\hbar^2(K-\\frac{2\\pi}{a})^2}{2m}-E\n",
    "\\end{bmatrix}\n",
    "$$\n",
    "We need to diagonalize this, namely, we need to find E such that\n",
    "$$ det(M) = 0 $$"
   ]
  },
  {
   "cell_type": "code",
   "execution_count": 3,
   "metadata": {},
   "outputs": [],
   "source": [
    "#Setting the variables\n",
    "E = Symbol('E')\n",
    "Vp = Symbol('V', complex=True)\n",
    "Vm = Vp.conjugate()\n",
    "Vpp = Symbol('Vp', complex=True)\n",
    "Vmm = Vpp.conjugate()\n",
    "E0 = Symbol('E0')\n",
    "Ep = Symbol('Ep')\n",
    "Em = Symbol('Em')"
   ]
  },
  {
   "cell_type": "code",
   "execution_count": 4,
   "metadata": {},
   "outputs": [
    {
     "data": {
      "text/latex": [
       "$\\displaystyle \\left[\\begin{matrix}- E + E_{0} & \\overline{V} & V\\\\\\overline{V} & - E + Ep & Vp\\\\V & \\overline{Vp} & - E + Em\\end{matrix}\\right]$"
      ],
      "text/plain": [
       "Matrix([\n",
       "[     -E + E0,  conjugate(V),       V],\n",
       "[conjugate(V),       -E + Ep,      Vp],\n",
       "[           V, conjugate(Vp), -E + Em]])"
      ]
     },
     "execution_count": 4,
     "metadata": {},
     "output_type": "execute_result"
    }
   ],
   "source": [
    "#Creating the matrix\n",
    "mat = Matrix([[E0-E, Vm, Vp], [Vm, Ep-E, Vpp], [Vp, Vmm, Em-E]])\n",
    "mat"
   ]
  },
  {
   "cell_type": "markdown",
   "metadata": {},
   "source": [
    "Here for simplicity, I have used:\n",
    "$$E_0 = \\frac{\\hbar^2K^2}{2a^2}$$\n",
    "$$ E_p = \\frac{\\hbar^2(K+\\frac{2\\pi}{a})^2}{2a^2}$$\n",
    "$$ E_m = \\frac{\\hbar^2(K-\\frac{2\\pi}{a})^2}{2a^2}$$\n",
    "$$ V = V_{\\frac{-2\\pi}{a}}$$\n",
    "$$ \\bar{V} = V_{\\frac{2\\pi}{a}}$$\n",
    "$$ V_p = V_{\\frac{4\\pi}{a}}$$\n",
    "$$ \\bar{V_p} = V_{\\frac{-4\\pi}{a}}$$"
   ]
  },
  {
   "cell_type": "markdown",
   "metadata": {},
   "source": [
    "### Solving for E"
   ]
  },
  {
   "cell_type": "markdown",
   "metadata": {},
   "source": [
    "If I solve the equation symbolically for E, I'll get a HUGE expression for E. To make the expression smaller, I'll set the values of $V$ and $V_P$ to be equal to 1."
   ]
  },
  {
   "cell_type": "code",
   "execution_count": 5,
   "metadata": {},
   "outputs": [
    {
     "data": {
      "text/latex": [
       "$\\displaystyle - E^{3} + E^{2} E_{0} + E^{2} Em + E^{2} Ep - E E_{0} Em - E E_{0} Ep - E Em Ep + 3 E + E_{0} Em Ep - E_{0} - Em - Ep + 2$"
      ],
      "text/plain": [
       "-E**3 + E**2*E0 + E**2*Em + E**2*Ep - E*E0*Em - E*E0*Ep - E*Em*Ep + 3*E + E0*Em*Ep - E0 - Em - Ep + 2"
      ]
     },
     "execution_count": 5,
     "metadata": {},
     "output_type": "execute_result"
    }
   ],
   "source": [
    "#Getting the determinant\n",
    "eq = mat.det()\n",
    "#Substituting Vp = Vpp =1 to simplify the equation\n",
    "eq = eq.subs(Vp, 1)\n",
    "eq = eq.subs(Vpp, 1)\n",
    "eq"
   ]
  },
  {
   "cell_type": "markdown",
   "metadata": {},
   "source": [
    "Now, I need to solve for E in terms of $E_0$, $E_M$ and $E_P$."
   ]
  },
  {
   "cell_type": "code",
   "execution_count": 6,
   "metadata": {},
   "outputs": [
    {
     "data": {
      "text/plain": [
       "3"
      ]
     },
     "execution_count": 6,
     "metadata": {},
     "output_type": "execute_result"
    }
   ],
   "source": [
    "Es = solve(eq, E)\n",
    "len(Es)"
   ]
  },
  {
   "cell_type": "markdown",
   "metadata": {},
   "source": [
    "Since the equation was third order, we should get three different solutions of E. As we can see from the output of the above cell, `len(Es)` is indeed 3. Let's see what these three solutions are:"
   ]
  },
  {
   "cell_type": "markdown",
   "metadata": {},
   "source": [
    "**First Solution**"
   ]
  },
  {
   "cell_type": "code",
   "execution_count": 7,
   "metadata": {},
   "outputs": [
    {
     "data": {
      "text/latex": [
       "$\\displaystyle \\frac{E_{0}}{3} + \\frac{Em}{3} + \\frac{Ep}{3} - \\frac{- 3 E_{0} Em - 3 E_{0} Ep - 3 Em Ep + \\left(- E_{0} - Em - Ep\\right)^{2} + 9}{3 \\sqrt[3]{- \\frac{27 E_{0} Em Ep}{2} + \\frac{27 E_{0}}{2} + \\frac{27 Em}{2} + \\frac{27 Ep}{2} + \\frac{\\sqrt{- 4 \\left(- 3 E_{0} Em - 3 E_{0} Ep - 3 Em Ep + \\left(- E_{0} - Em - Ep\\right)^{2} + 9\\right)^{3} + \\left(- 27 E_{0} Em Ep + 27 E_{0} + 27 Em + 27 Ep - \\left(- 9 E_{0} - 9 Em - 9 Ep\\right) \\left(E_{0} Em + E_{0} Ep + Em Ep - 3\\right) + 2 \\left(- E_{0} - Em - Ep\\right)^{3} - 54\\right)^{2}}}{2} - \\frac{\\left(- 9 E_{0} - 9 Em - 9 Ep\\right) \\left(E_{0} Em + E_{0} Ep + Em Ep - 3\\right)}{2} + \\left(- E_{0} - Em - Ep\\right)^{3} - 27}} - \\frac{\\sqrt[3]{- \\frac{27 E_{0} Em Ep}{2} + \\frac{27 E_{0}}{2} + \\frac{27 Em}{2} + \\frac{27 Ep}{2} + \\frac{\\sqrt{- 4 \\left(- 3 E_{0} Em - 3 E_{0} Ep - 3 Em Ep + \\left(- E_{0} - Em - Ep\\right)^{2} + 9\\right)^{3} + \\left(- 27 E_{0} Em Ep + 27 E_{0} + 27 Em + 27 Ep - \\left(- 9 E_{0} - 9 Em - 9 Ep\\right) \\left(E_{0} Em + E_{0} Ep + Em Ep - 3\\right) + 2 \\left(- E_{0} - Em - Ep\\right)^{3} - 54\\right)^{2}}}{2} - \\frac{\\left(- 9 E_{0} - 9 Em - 9 Ep\\right) \\left(E_{0} Em + E_{0} Ep + Em Ep - 3\\right)}{2} + \\left(- E_{0} - Em - Ep\\right)^{3} - 27}}{3}$"
      ],
      "text/plain": [
       "E0/3 + Em/3 + Ep/3 - (-3*E0*Em - 3*E0*Ep - 3*Em*Ep + (-E0 - Em - Ep)**2 + 9)/(3*(-27*E0*Em*Ep/2 + 27*E0/2 + 27*Em/2 + 27*Ep/2 + sqrt(-4*(-3*E0*Em - 3*E0*Ep - 3*Em*Ep + (-E0 - Em - Ep)**2 + 9)**3 + (-27*E0*Em*Ep + 27*E0 + 27*Em + 27*Ep - (-9*E0 - 9*Em - 9*Ep)*(E0*Em + E0*Ep + Em*Ep - 3) + 2*(-E0 - Em - Ep)**3 - 54)**2)/2 - (-9*E0 - 9*Em - 9*Ep)*(E0*Em + E0*Ep + Em*Ep - 3)/2 + (-E0 - Em - Ep)**3 - 27)**(1/3)) - (-27*E0*Em*Ep/2 + 27*E0/2 + 27*Em/2 + 27*Ep/2 + sqrt(-4*(-3*E0*Em - 3*E0*Ep - 3*Em*Ep + (-E0 - Em - Ep)**2 + 9)**3 + (-27*E0*Em*Ep + 27*E0 + 27*Em + 27*Ep - (-9*E0 - 9*Em - 9*Ep)*(E0*Em + E0*Ep + Em*Ep - 3) + 2*(-E0 - Em - Ep)**3 - 54)**2)/2 - (-9*E0 - 9*Em - 9*Ep)*(E0*Em + E0*Ep + Em*Ep - 3)/2 + (-E0 - Em - Ep)**3 - 27)**(1/3)/3"
      ]
     },
     "execution_count": 7,
     "metadata": {},
     "output_type": "execute_result"
    }
   ],
   "source": [
    "E1 = Es[0]\n",
    "E1"
   ]
  },
  {
   "cell_type": "markdown",
   "metadata": {},
   "source": [
    "**Second Solution**"
   ]
  },
  {
   "cell_type": "code",
   "execution_count": 8,
   "metadata": {},
   "outputs": [
    {
     "data": {
      "text/latex": [
       "$\\displaystyle \\frac{E_{0}}{3} + \\frac{Em}{3} + \\frac{Ep}{3} - \\frac{- 3 E_{0} Em - 3 E_{0} Ep - 3 Em Ep + \\left(- E_{0} - Em - Ep\\right)^{2} + 9}{3 \\left(- \\frac{1}{2} - \\frac{\\sqrt{3} i}{2}\\right) \\sqrt[3]{- \\frac{27 E_{0} Em Ep}{2} + \\frac{27 E_{0}}{2} + \\frac{27 Em}{2} + \\frac{27 Ep}{2} + \\frac{\\sqrt{- 4 \\left(- 3 E_{0} Em - 3 E_{0} Ep - 3 Em Ep + \\left(- E_{0} - Em - Ep\\right)^{2} + 9\\right)^{3} + \\left(- 27 E_{0} Em Ep + 27 E_{0} + 27 Em + 27 Ep - \\left(- 9 E_{0} - 9 Em - 9 Ep\\right) \\left(E_{0} Em + E_{0} Ep + Em Ep - 3\\right) + 2 \\left(- E_{0} - Em - Ep\\right)^{3} - 54\\right)^{2}}}{2} - \\frac{\\left(- 9 E_{0} - 9 Em - 9 Ep\\right) \\left(E_{0} Em + E_{0} Ep + Em Ep - 3\\right)}{2} + \\left(- E_{0} - Em - Ep\\right)^{3} - 27}} - \\frac{\\left(- \\frac{1}{2} - \\frac{\\sqrt{3} i}{2}\\right) \\sqrt[3]{- \\frac{27 E_{0} Em Ep}{2} + \\frac{27 E_{0}}{2} + \\frac{27 Em}{2} + \\frac{27 Ep}{2} + \\frac{\\sqrt{- 4 \\left(- 3 E_{0} Em - 3 E_{0} Ep - 3 Em Ep + \\left(- E_{0} - Em - Ep\\right)^{2} + 9\\right)^{3} + \\left(- 27 E_{0} Em Ep + 27 E_{0} + 27 Em + 27 Ep - \\left(- 9 E_{0} - 9 Em - 9 Ep\\right) \\left(E_{0} Em + E_{0} Ep + Em Ep - 3\\right) + 2 \\left(- E_{0} - Em - Ep\\right)^{3} - 54\\right)^{2}}}{2} - \\frac{\\left(- 9 E_{0} - 9 Em - 9 Ep\\right) \\left(E_{0} Em + E_{0} Ep + Em Ep - 3\\right)}{2} + \\left(- E_{0} - Em - Ep\\right)^{3} - 27}}{3}$"
      ],
      "text/plain": [
       "E0/3 + Em/3 + Ep/3 - (-3*E0*Em - 3*E0*Ep - 3*Em*Ep + (-E0 - Em - Ep)**2 + 9)/(3*(-1/2 - sqrt(3)*I/2)*(-27*E0*Em*Ep/2 + 27*E0/2 + 27*Em/2 + 27*Ep/2 + sqrt(-4*(-3*E0*Em - 3*E0*Ep - 3*Em*Ep + (-E0 - Em - Ep)**2 + 9)**3 + (-27*E0*Em*Ep + 27*E0 + 27*Em + 27*Ep - (-9*E0 - 9*Em - 9*Ep)*(E0*Em + E0*Ep + Em*Ep - 3) + 2*(-E0 - Em - Ep)**3 - 54)**2)/2 - (-9*E0 - 9*Em - 9*Ep)*(E0*Em + E0*Ep + Em*Ep - 3)/2 + (-E0 - Em - Ep)**3 - 27)**(1/3)) - (-1/2 - sqrt(3)*I/2)*(-27*E0*Em*Ep/2 + 27*E0/2 + 27*Em/2 + 27*Ep/2 + sqrt(-4*(-3*E0*Em - 3*E0*Ep - 3*Em*Ep + (-E0 - Em - Ep)**2 + 9)**3 + (-27*E0*Em*Ep + 27*E0 + 27*Em + 27*Ep - (-9*E0 - 9*Em - 9*Ep)*(E0*Em + E0*Ep + Em*Ep - 3) + 2*(-E0 - Em - Ep)**3 - 54)**2)/2 - (-9*E0 - 9*Em - 9*Ep)*(E0*Em + E0*Ep + Em*Ep - 3)/2 + (-E0 - Em - Ep)**3 - 27)**(1/3)/3"
      ]
     },
     "execution_count": 8,
     "metadata": {},
     "output_type": "execute_result"
    }
   ],
   "source": [
    "E2 = Es[1]\n",
    "E2"
   ]
  },
  {
   "cell_type": "markdown",
   "metadata": {},
   "source": [
    "**Third Solution**"
   ]
  },
  {
   "cell_type": "code",
   "execution_count": 9,
   "metadata": {},
   "outputs": [
    {
     "data": {
      "text/latex": [
       "$\\displaystyle \\frac{E_{0}}{3} + \\frac{Em}{3} + \\frac{Ep}{3} - \\frac{- 3 E_{0} Em - 3 E_{0} Ep - 3 Em Ep + \\left(- E_{0} - Em - Ep\\right)^{2} + 9}{3 \\left(- \\frac{1}{2} + \\frac{\\sqrt{3} i}{2}\\right) \\sqrt[3]{- \\frac{27 E_{0} Em Ep}{2} + \\frac{27 E_{0}}{2} + \\frac{27 Em}{2} + \\frac{27 Ep}{2} + \\frac{\\sqrt{- 4 \\left(- 3 E_{0} Em - 3 E_{0} Ep - 3 Em Ep + \\left(- E_{0} - Em - Ep\\right)^{2} + 9\\right)^{3} + \\left(- 27 E_{0} Em Ep + 27 E_{0} + 27 Em + 27 Ep - \\left(- 9 E_{0} - 9 Em - 9 Ep\\right) \\left(E_{0} Em + E_{0} Ep + Em Ep - 3\\right) + 2 \\left(- E_{0} - Em - Ep\\right)^{3} - 54\\right)^{2}}}{2} - \\frac{\\left(- 9 E_{0} - 9 Em - 9 Ep\\right) \\left(E_{0} Em + E_{0} Ep + Em Ep - 3\\right)}{2} + \\left(- E_{0} - Em - Ep\\right)^{3} - 27}} - \\frac{\\left(- \\frac{1}{2} + \\frac{\\sqrt{3} i}{2}\\right) \\sqrt[3]{- \\frac{27 E_{0} Em Ep}{2} + \\frac{27 E_{0}}{2} + \\frac{27 Em}{2} + \\frac{27 Ep}{2} + \\frac{\\sqrt{- 4 \\left(- 3 E_{0} Em - 3 E_{0} Ep - 3 Em Ep + \\left(- E_{0} - Em - Ep\\right)^{2} + 9\\right)^{3} + \\left(- 27 E_{0} Em Ep + 27 E_{0} + 27 Em + 27 Ep - \\left(- 9 E_{0} - 9 Em - 9 Ep\\right) \\left(E_{0} Em + E_{0} Ep + Em Ep - 3\\right) + 2 \\left(- E_{0} - Em - Ep\\right)^{3} - 54\\right)^{2}}}{2} - \\frac{\\left(- 9 E_{0} - 9 Em - 9 Ep\\right) \\left(E_{0} Em + E_{0} Ep + Em Ep - 3\\right)}{2} + \\left(- E_{0} - Em - Ep\\right)^{3} - 27}}{3}$"
      ],
      "text/plain": [
       "E0/3 + Em/3 + Ep/3 - (-3*E0*Em - 3*E0*Ep - 3*Em*Ep + (-E0 - Em - Ep)**2 + 9)/(3*(-1/2 + sqrt(3)*I/2)*(-27*E0*Em*Ep/2 + 27*E0/2 + 27*Em/2 + 27*Ep/2 + sqrt(-4*(-3*E0*Em - 3*E0*Ep - 3*Em*Ep + (-E0 - Em - Ep)**2 + 9)**3 + (-27*E0*Em*Ep + 27*E0 + 27*Em + 27*Ep - (-9*E0 - 9*Em - 9*Ep)*(E0*Em + E0*Ep + Em*Ep - 3) + 2*(-E0 - Em - Ep)**3 - 54)**2)/2 - (-9*E0 - 9*Em - 9*Ep)*(E0*Em + E0*Ep + Em*Ep - 3)/2 + (-E0 - Em - Ep)**3 - 27)**(1/3)) - (-1/2 + sqrt(3)*I/2)*(-27*E0*Em*Ep/2 + 27*E0/2 + 27*Em/2 + 27*Ep/2 + sqrt(-4*(-3*E0*Em - 3*E0*Ep - 3*Em*Ep + (-E0 - Em - Ep)**2 + 9)**3 + (-27*E0*Em*Ep + 27*E0 + 27*Em + 27*Ep - (-9*E0 - 9*Em - 9*Ep)*(E0*Em + E0*Ep + Em*Ep - 3) + 2*(-E0 - Em - Ep)**3 - 54)**2)/2 - (-9*E0 - 9*Em - 9*Ep)*(E0*Em + E0*Ep + Em*Ep - 3)/2 + (-E0 - Em - Ep)**3 - 27)**(1/3)/3"
      ]
     },
     "execution_count": 9,
     "metadata": {},
     "output_type": "execute_result"
    }
   ],
   "source": [
    "E3  = Es[2]\n",
    "E3"
   ]
  },
  {
   "cell_type": "markdown",
   "metadata": {},
   "source": [
    "The solutions are still quite big and complex. The reason behind this is that `sympy` is not very good at simplifying expressions. "
   ]
  },
  {
   "cell_type": "markdown",
   "metadata": {},
   "source": [
    "### Plotting the Energy Curves"
   ]
  },
  {
   "cell_type": "markdown",
   "metadata": {},
   "source": [
    "Final step is evaluating the energy of the system by substituting the values of $E_P$, $E_M$ and $E_0$ into the equation. We already have a function `give_energy` that returns the energy E, given k, m and a. By default, $m=a=1$. We'll use this defualt values. However, we can easily pass m and a as arguments to the function to change the default values."
   ]
  },
  {
   "cell_type": "code",
   "execution_count": 10,
   "metadata": {},
   "outputs": [],
   "source": [
    "def substitute(E, K, **kwargs):\n",
    "    \"\"\"\n",
    "    Takes one value of E and returns numerical value of E after making all the substitutions and\n",
    "    for a specific K value\n",
    "    \"\"\"\n",
    "    #Substituing E0\n",
    "    E_num = E.subs(E0, give_energy(K=K, **kwargs))\n",
    "    #Substituing Ep which is nothing but E0 with K= K + G and as G = 2*pi, so K = K + 2*pi\n",
    "    E_num = E_num.subs(Ep, give_energy(K=K+2*np.pi, **kwargs))\n",
    "    #Substituing Em which is nothing but E0 with K= K - G and as G = 2*pi, so K = K - 2*pi\n",
    "    E_num = E_num.subs(Em, give_energy(K=K-2*np.pi, **kwargs))\n",
    "    E_num = E_num.evalf()\n",
    "    #Sometimes, we are getting a complex number, with very small imaginary part(ususally < 1e-15)\n",
    "    #because of the precision of the computer. So, we are removing the imaginary part.\n",
    "    E_num = E_num.subs(I, 0)\n",
    "    return E_num\n",
    "\n",
    "#Finally, we'll make the function a vectorized function\n",
    "substitute = np.vectorize(substitute)"
   ]
  },
  {
   "cell_type": "markdown",
   "metadata": {},
   "source": [
    "Let's do a sanity check!"
   ]
  },
  {
   "cell_type": "code",
   "execution_count": 11,
   "metadata": {},
   "outputs": [
    {
     "data": {
      "text/plain": [
       "array(0.0265444478729320, dtype=object)"
      ]
     },
     "metadata": {},
     "output_type": "display_data"
    },
    {
     "data": {
      "text/plain": [
       "array(16.6090607554717, dtype=object)"
      ]
     },
     "metadata": {},
     "output_type": "display_data"
    },
    {
     "data": {
      "text/plain": [
       "array(23.2178124010128, dtype=object)"
      ]
     },
     "metadata": {},
     "output_type": "display_data"
    },
    {
     "data": {
      "text/plain": [
       "array(3.93480220054468, dtype=object)"
      ]
     },
     "metadata": {},
     "output_type": "display_data"
    },
    {
     "data": {
      "text/plain": [
       "array(5.88289503360872, dtype=object)"
      ]
     },
     "metadata": {},
     "output_type": "display_data"
    },
    {
     "data": {
      "text/plain": [
       "array(44.4651269718381, dtype=object)"
      ]
     },
     "metadata": {},
     "output_type": "display_data"
    }
   ],
   "source": [
    "display(substitute(E1, 0.5))\n",
    "display(substitute(E2, 0.5))\n",
    "display(substitute(E3, 0.5))\n",
    "display(substitute(E1, np.pi))\n",
    "display(substitute(E2, np.pi))\n",
    "display(substitute(E3, np.pi))"
   ]
  },
  {
   "cell_type": "markdown",
   "metadata": {},
   "source": [
    "So, it is working. Let's plot them."
   ]
  },
  {
   "cell_type": "code",
   "execution_count": 12,
   "metadata": {},
   "outputs": [],
   "source": [
    "#Defining K values\n",
    "K = np.linspace(-2*np.pi, 2*np.pi, 100)\n",
    "\n",
    "#Getting the values of energies\n",
    "Ev1 = substitute(E1, K)\n",
    "Ev2 = substitute(E2, K)\n",
    "Ev3 = substitute(E3, K)"
   ]
  },
  {
   "cell_type": "code",
   "execution_count": 13,
   "metadata": {},
   "outputs": [
    {
     "data": {
      "image/png": "[encoded data removed]",
      "text/plain": [
       "<Figure size 720x576 with 1 Axes>"
      ]
     },
     "metadata": {
      "needs_background": "light"
     },
     "output_type": "display_data"
    }
   ],
   "source": [
    "%matplotlib inline\n",
    "\n",
    "#Setting Figure Size\n",
    "plt.figure(figsize=(10,8))\n",
    "\n",
    "#Plotting the three energies\n",
    "plt.plot(K, Ev1, label='E1')\n",
    "plt.plot(K, Ev2, label='E2')\n",
    "plt.plot(K, Ev3, label='E3')\n",
    "\n",
    "#Making three vertical lines, one for x=0, ie. y-axis\n",
    "#and two for x=pi, and x= -pi\n",
    "\n",
    "plt.vlines(0,0,85, color='black', linewidth=2)\n",
    "plt.vlines(np.pi,0,85, color='green', linestyle='dashed')\n",
    "plt.vlines(-np.pi,0,85, color='green', linestyle='dashed')\n",
    "\n",
    "#Setting the x and y labels and title\n",
    "plt.xlabel('K', fontsize=16)\n",
    "plt.ylabel('E', fontsize=16)\n",
    "plt.title('Energy levels of electron in periodic potential', fontsize=16)\n",
    "\n",
    "#Setting the xlimit and ylimit\n",
    "plt.xlim(-6,6)\n",
    "plt.ylim(0,50)\n",
    "\n",
    "#Modifying the xticks and making the ticks larger\n",
    "plt.xticks([-6,-4, -np.pi,-2, 0, 2, np.pi, 4,6],\n",
    "     ['-6','-4','-$\\pi$','2','0', '2', '$\\pi$' ,'4','6'],\n",
    "     fontsize=14)\n",
    "plt.yticks(fontsize=14)\n",
    "\n",
    "#Placing the legends\n",
    "plt.legend();"
   ]
  },
  {
   "cell_type": "markdown",
   "metadata": {},
   "source": [
    "Making the plot a bit interactive. However, the output won't be visible in the pdf (The `jupyter nbconvert` is not able to export dynamic graphics to pdf). You'll need to download the notebook and run it locally. You'll also need to download `ipympl` library."
   ]
  },
  {
   "cell_type": "code",
   "execution_count": 14,
   "metadata": {},
   "outputs": [
    {
     "data": {
      "application/vnd.jupyter.widget-view+json": {
       "model_id": "9bf694dc7dc24fe09f4df5874f4dafa3",
       "version_major": 2,
       "version_minor": 0
      },
      "text/html": [
       "\n",
       "            <div style=\"display: inline-block;\">\n",
       "                <div class=\"jupyter-widgets widget-label\" style=\"text-align: center;\">\n",
       "                    Figure\n",
       "                </div>\n",
       "                <img src='data:image/png;base64,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' width=432.0/>\n",
       "            </div>\n",
       "        "
      ],
      "text/plain": [
       "Canvas(toolbar=Toolbar(toolitems=[('Home', 'Reset original view', 'home', 'home'), ('Back', 'Back to previous …"
      ]
     },
     "metadata": {},
     "output_type": "display_data"
    }
   ],
   "source": [
    "%matplotlib widget\n",
    "#Making the plots\n",
    "plt.plot(K, Ev1, label='E1')\n",
    "plt.plot(K, Ev2, label='E2')\n",
    "plt.plot(K, Ev3, label='E3')\n",
    "plt.vlines(0,0,85, color='black', linewidth=2)\n",
    "plt.vlines(np.pi,0,85, color='green', linestyle='dashed')\n",
    "plt.vlines(-np.pi,0,85, color='green', linestyle='dashed')\n",
    "plt.xlabel('K', fontsize=16)\n",
    "plt.ylabel('E', fontsize=16)\n",
    "plt.xlim(-6,6)\n",
    "plt.xticks([-6,-4, -np.pi,-2, 0, 2, np.pi, 4,6],\n",
    "     ['-6','-4','-$\\pi$','2','0', '2', '$\\pi$' ,'4','6'],\n",
    "     fontsize=14)\n",
    "plt.title('Energy levels of a particle in periodic potential', fontsize=14)\n",
    "plt.yticks(fontsize=14)\n",
    "plt.ylim(0,50)\n",
    "plt.legend();"
   ]
  }
 ],
 "metadata": {
  "interpreter": {
   "hash": "ce44b17c45080b8f56a19c9450d52461d624c968fcd959bb1916985c5ffa2b94"
  },
  "kernelspec": {
   "display_name": "Python 3.8.5 64-bit ('base': conda)",
   "language": "python",
   "name": "python3"
  },
  "language_info": {
   "codemirror_mode": {
    "name": "ipython",
    "version": 3
   },
   "file_extension": ".py",
   "mimetype": "text/x-python",
   "name": "python",
   "nbconvert_exporter": "python",
   "pygments_lexer": "ipython3",
   "version": "3.8.5"
  },
  "orig_nbformat": 4
 },
 "nbformat": 4,
 "nbformat_minor": 2
}
