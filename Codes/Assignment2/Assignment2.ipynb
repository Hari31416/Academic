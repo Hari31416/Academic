{
 "cells": [
  {
   "cell_type": "markdown",
   "metadata": {},
   "source": [
    "<table class=\"tfo-notebook-buttons\" align=\"left\">\n",
    "<td style=\"border: none;\">\n",
    "<a target=\"blank\" href=\"https://colab.research.google.com/github/Hari31416/PYL800/blob/main/Codes/Assignment2/Assignment2.ipynb?hl=en\"><img src=\"https://colab.research.google.com/img/colab_favicon_256px.png\" width=\"28\" height=\"28\"/>Run on Google Colab</a></td>\n",
    "<td style=\"border: none;\">\n",
    "<a target=\"blank\" href=\"https://github.com/Hari31416/PYL800/blob/main/Codes/Assignment2/Assignment2.ipynb\"><img src=\"https://cdn.icon-icons.com/icons2/2368/PNG/512/github_logo_icon_143772.png\" width=\"28\" height=\"28\"/>View on Github</a></td>\n",
    "<td style=\"border: none;\">\n",
    "</table>"
   ]
  },
  {
   "cell_type": "code",
   "execution_count": 113,
   "metadata": {},
   "outputs": [],
   "source": [
    "import pandas as pd\n",
    "import matplotlib.pyplot as plt\n",
    "import matplotlib as mpl"
   ]
  },
  {
   "cell_type": "code",
   "execution_count": 114,
   "metadata": {},
   "outputs": [],
   "source": [
    "df = pd.read_excel(\"Assignment2.xlsx\")"
   ]
  },
  {
   "cell_type": "code",
   "execution_count": 115,
   "metadata": {},
   "outputs": [
    {
     "data": {
      "text/html": [
       "<div>\n",
       "<style scoped>\n",
       "    .dataframe tbody tr th:only-of-type {\n",
       "        vertical-align: middle;\n",
       "    }\n",
       "\n",
       "    .dataframe tbody tr th {\n",
       "        vertical-align: top;\n",
       "    }\n",
       "\n",
       "    .dataframe thead th {\n",
       "        text-align: right;\n",
       "    }\n",
       "</style>\n",
       "<table border=\"1\" class=\"dataframe\">\n",
       "  <thead>\n",
       "    <tr style=\"text-align: right;\">\n",
       "      <th></th>\n",
       "      <th>Distance</th>\n",
       "      <th>Energy</th>\n",
       "    </tr>\n",
       "  </thead>\n",
       "  <tbody>\n",
       "    <tr>\n",
       "      <th>0</th>\n",
       "      <td>1.000</td>\n",
       "      <td>-31.078234</td>\n",
       "    </tr>\n",
       "    <tr>\n",
       "      <th>1</th>\n",
       "      <td>0.900</td>\n",
       "      <td>-31.460702</td>\n",
       "    </tr>\n",
       "    <tr>\n",
       "      <th>2</th>\n",
       "      <td>0.800</td>\n",
       "      <td>-31.710034</td>\n",
       "    </tr>\n",
       "    <tr>\n",
       "      <th>3</th>\n",
       "      <td>0.850</td>\n",
       "      <td>-31.608172</td>\n",
       "    </tr>\n",
       "    <tr>\n",
       "      <th>4</th>\n",
       "      <td>0.700</td>\n",
       "      <td>-31.700418</td>\n",
       "    </tr>\n",
       "    <tr>\n",
       "      <th>5</th>\n",
       "      <td>0.600</td>\n",
       "      <td>-31.199452</td>\n",
       "    </tr>\n",
       "    <tr>\n",
       "      <th>6</th>\n",
       "      <td>0.550</td>\n",
       "      <td>-30.636954</td>\n",
       "    </tr>\n",
       "    <tr>\n",
       "      <th>7</th>\n",
       "      <td>0.500</td>\n",
       "      <td>-29.751617</td>\n",
       "    </tr>\n",
       "    <tr>\n",
       "      <th>8</th>\n",
       "      <td>0.710</td>\n",
       "      <td>-31.718451</td>\n",
       "    </tr>\n",
       "    <tr>\n",
       "      <th>9</th>\n",
       "      <td>0.720</td>\n",
       "      <td>-31.732030</td>\n",
       "    </tr>\n",
       "    <tr>\n",
       "      <th>10</th>\n",
       "      <td>0.730</td>\n",
       "      <td>-31.741429</td>\n",
       "    </tr>\n",
       "    <tr>\n",
       "      <th>11</th>\n",
       "      <td>0.740</td>\n",
       "      <td>-31.746910</td>\n",
       "    </tr>\n",
       "    <tr>\n",
       "      <th>12</th>\n",
       "      <td>0.750</td>\n",
       "      <td>-31.748717</td>\n",
       "    </tr>\n",
       "    <tr>\n",
       "      <th>13</th>\n",
       "      <td>0.760</td>\n",
       "      <td>-31.747075</td>\n",
       "    </tr>\n",
       "    <tr>\n",
       "      <th>14</th>\n",
       "      <td>0.770</td>\n",
       "      <td>-31.742194</td>\n",
       "    </tr>\n",
       "    <tr>\n",
       "      <th>15</th>\n",
       "      <td>0.744</td>\n",
       "      <td>-31.748061</td>\n",
       "    </tr>\n",
       "    <tr>\n",
       "      <th>16</th>\n",
       "      <td>0.746</td>\n",
       "      <td>-31.748420</td>\n",
       "    </tr>\n",
       "  </tbody>\n",
       "</table>\n",
       "</div>"
      ],
      "text/plain": [
       "    Distance     Energy\n",
       "0      1.000 -31.078234\n",
       "1      0.900 -31.460702\n",
       "2      0.800 -31.710034\n",
       "3      0.850 -31.608172\n",
       "4      0.700 -31.700418\n",
       "5      0.600 -31.199452\n",
       "6      0.550 -30.636954\n",
       "7      0.500 -29.751617\n",
       "8      0.710 -31.718451\n",
       "9      0.720 -31.732030\n",
       "10     0.730 -31.741429\n",
       "11     0.740 -31.746910\n",
       "12     0.750 -31.748717\n",
       "13     0.760 -31.747075\n",
       "14     0.770 -31.742194\n",
       "15     0.744 -31.748061\n",
       "16     0.746 -31.748420"
      ]
     },
     "execution_count": 115,
     "metadata": {},
     "output_type": "execute_result"
    }
   ],
   "source": [
    "df"
   ]
  },
  {
   "cell_type": "code",
   "execution_count": 110,
   "metadata": {},
   "outputs": [],
   "source": [
    "#Setting global figure size\n",
    "mpl.rcParams['figure.figsize'] = (8, 6)"
   ]
  },
  {
   "cell_type": "markdown",
   "metadata": {},
   "source": [
    "**Making a rough plot of the data**"
   ]
  },
  {
   "cell_type": "code",
   "execution_count": 109,
   "metadata": {},
   "outputs": [
    {
     "data": {
      "image/png": "[encoded data removed]",
      "text/plain": [
       "<Figure size 576x432 with 1 Axes>"
      ]
     },
     "metadata": {
      "needs_background": "light"
     },
     "output_type": "display_data"
    }
   ],
   "source": [
    "df.plot(x='Distance', y='Energy', kind='scatter', color='green', s = 45)\n",
    "plt.title('Energy vs Distance for H2 Atom');"
   ]
  },
  {
   "cell_type": "markdown",
   "metadata": {},
   "source": [
    "**Getting the value of minimum energy and its corresponding distance**"
   ]
  },
  {
   "cell_type": "code",
   "execution_count": 107,
   "metadata": {},
   "outputs": [],
   "source": [
    "#Getting the value of minimum energy and its corresponding distance\n",
    "min_position = df[df['Energy'] ==df['Energy'].min()].values\n",
    "min_energy = float(min_position[:,1])\n",
    "min_energy_position = float(min_position[:,0])"
   ]
  },
  {
   "cell_type": "markdown",
   "metadata": {},
   "source": [
    "**The Final Plot**"
   ]
  },
  {
   "cell_type": "code",
   "execution_count": 112,
   "metadata": {},
   "outputs": [
    {
     "data": {
      "image/png": "[encoded data removed]",
      "text/plain": [
       "<Figure size 576x432 with 1 Axes>"
      ]
     },
     "metadata": {
      "needs_background": "light"
     },
     "output_type": "display_data"
    }
   ],
   "source": [
    "#main plot\n",
    "df.plot(x='Distance', y='Energy', kind='scatter', color='green', s = 45)\n",
    "#The point corresponding to minimum energy\n",
    "plt.plot(min_energy_position, min_energy, 'bo', markersize=10)\n",
    "#Text describing the minimum energy\n",
    "plt.text(min_energy_position+0.005, min_energy-0.005, \n",
    "    f'Minimum Energy({round(min_energy,2)}) eV',\n",
    "    fontdict={'size': 12, 'color': 'blue', 'weight': 'bold'})\n",
    "#Vertical line at the distance corresponding to minimum energy\n",
    "plt.vlines(min_energy_position, -32, -29, linestyles='dashed', colors='red')\n",
    "#Text describing the minimum distance\n",
    "plt.text(min_energy_position+0.002, -31.77,f\"r = {min_energy_position} nm\",\n",
    "    fontdict={'size': 13, 'color': 'red', 'weight': 'bold'})\n",
    "#Modifying the lables\n",
    "plt.xlabel('Bond Length $(\\AA)$', fontsize=14)\n",
    "plt.ylabel('Energy (eV)', fontsize=14)\n",
    "#Zooming in on the minimum energy\n",
    "plt.ylim([-31.8, -31.6])\n",
    "plt.xlim([0.68,0.82])\n",
    "#Adding a title\n",
    "plt.title('Energy vs Bond Length for H2 Atom (Zoomed in)', fontsize=14);"
   ]
  }
 ],
 "metadata": {
  "interpreter": {
   "hash": "ce44b17c45080b8f56a19c9450d52461d624c968fcd959bb1916985c5ffa2b94"
  },
  "kernelspec": {
   "display_name": "Python 3.8.5 64-bit ('base': conda)",
   "language": "python",
   "name": "python3"
  },
  "language_info": {
   "codemirror_mode": {
    "name": "ipython",
    "version": 3
   },
   "file_extension": ".py",
   "mimetype": "text/x-python",
   "name": "python",
   "nbconvert_exporter": "python",
   "pygments_lexer": "ipython3",
   "version": "3.8.5"
  },
  "orig_nbformat": 4
 },
 "nbformat": 4,
 "nbformat_minor": 2
}
