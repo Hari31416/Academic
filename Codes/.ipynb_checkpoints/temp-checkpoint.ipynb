{
 "cells": [
  {
   "cell_type": "markdown",
   "metadata": {},
   "source": [
    "<table class=\"tfo-notebook-buttons\" align=\"left\"> <td>\n",
    "<a style=\"text-decoration: none;\" target=\"blank\" href=\"https://colab.research.google.com/github/Hari31416/PYL800/blob/main/Codes/temp.ipynb?hl=en\"><img src=\"https://colab.research.google.com/img/colab_favicon_256px.png\" width=\"28\" height=\"28\"/>Run in Google Colab</a></td>\n",
    "    <td>\n",
    "<a style=\"text-decoration: none;\" target=\"blank\" href=\"https://github.com/Hari31416/PYL800/blob/main/Codes/temp.ipynb\"><img src=\"https://cdn.icon-icons.com/icons2/2368/PNG/512/github_logo_icon_143772.png\" width=\"28\" height=\"28\"/>View in Github</a></td>\n",
    "    </table>"
   ]
  },
  {
   "cell_type": "code",
   "execution_count": 6,
   "metadata": {},
   "outputs": [
    {
     "name": "stderr",
     "output_type": "stream",
     "text": [
      "'--allow-chromium-download' is not recognized as an internal or external command,\n",
      "operable program or batch file.\n"
     ]
    }
   ],
   "source": [
    "!--allow-chromium-download"
   ]
  },
  {
   "cell_type": "code",
   "execution_count": 1,
   "metadata": {},
   "outputs": [],
   "source": [
    "import numpy as np\n",
    "import matplotlib.pyplot as plt\n",
    "import pandas as pd"
   ]
  },
  {
   "cell_type": "code",
   "execution_count": 2,
   "metadata": {},
   "outputs": [
    {
     "data": {
      "text/plain": [
       "[<matplotlib.lines.Line2D at 0x2085d1d7be0>]"
      ]
     },
     "execution_count": 2,
     "metadata": {},
     "output_type": "execute_result"
    },
    {
     "data": {
      "image/png": "[encoded data removed]",
      "text/plain": [
       "<Figure size 432x288 with 1 Axes>"
      ]
     },
     "metadata": {
      "needs_background": "light"
     },
     "output_type": "display_data"
    }
   ],
   "source": [
    "x = np.linspace(-5,5, 200)\n",
    "y = np.sin(x)\n",
    "plt.plot(x,y)"
   ]
  },
  {
   "cell_type": "code",
   "execution_count": 8,
   "metadata": {},
   "outputs": [
    {
     "name": "stderr",
     "output_type": "stream",
     "text": [
      "[NbConvertApp] Converting notebook temp.ipynb to webpdf\n",
      "[NbConvertApp] Building PDF\n",
      "[W:pyppeteer.chromium_downloader] start chromium download.\n",
      "Download may take a few minutes.\n",
      "\n",
      "  0%|          | 0/136913619 [00:00<?, ?it/s]\n",
      "  0%|          | 378880/136913619 [00:00<00:37, 3652812.70it/s]\n",
      "  1%|          | 1054720/136913619 [00:00<00:32, 4184020.69it/s]\n",
      "  2%|1         | 2150400/136913619 [00:00<00:26, 5125164.18it/s]\n",
      "  2%|2         | 3348480/136913619 [00:00<00:21, 6182157.25it/s]\n",
      "  3%|3         | 4444160/136913619 [00:00<00:18, 7102088.52it/s]\n",
      "  4%|4         | 5621760/136913619 [00:00<00:16, 8049986.32it/s]\n",
      "  5%|4         | 6553600/136913619 [00:00<00:17, 7565175.72it/s]\n",
      "  6%|5         | 8017920/136913619 [00:00<00:15, 8420228.50it/s]\n",
      "  7%|6         | 9134080/136913619 [00:00<00:14, 8947527.56it/s]\n",
      "  7%|7         | 10260480/136913619 [00:01<00:13, 9373321.74it/s]\n",
      "  9%|8         | 12062720/136913619 [00:01<00:11, 10822234.03it/s]\n",
      " 10%|9         | 13271040/136913619 [00:01<00:11, 10967429.97it/s]\n",
      " 11%|#         | 14458880/136913619 [00:01<00:11, 10368140.13it/s]\n",
      " 11%|#1        | 15646720/136913619 [00:01<00:11, 10308942.20it/s]\n",
      " 12%|#2        | 16752640/136913619 [00:01<00:12, 9757771.59it/s] \n",
      " 13%|#2        | 17776640/136913619 [00:01<00:12, 9872257.17it/s]\n",
      " 14%|#3        | 19025920/136913619 [00:01<00:11, 9952220.34it/s]\n",
      " 15%|#4        | 20500480/136913619 [00:02<00:11, 10375621.19it/s]\n",
      " 16%|#6        | 22282240/136913619 [00:02<00:09, 11704713.17it/s]\n",
      " 17%|#7        | 23552000/136913619 [00:02<00:09, 11762972.14it/s]\n",
      " 18%|#8        | 24780800/136913619 [00:02<00:09, 11354470.71it/s]\n",
      " 19%|#8        | 25958400/136913619 [00:02<00:10, 10307241.34it/s]\n",
      " 20%|#9        | 27054080/136913619 [00:02<00:10, 10303274.19it/s]\n",
      " 21%|##        | 28119040/136913619 [00:02<00:11, 9073181.80it/s] \n",
      " 22%|##1       | 29573120/136913619 [00:02<00:10, 10095752.19it/s]\n",
      " 22%|##2       | 30771200/136913619 [00:02<00:10, 10413761.47it/s]\n",
      " 23%|##3       | 31866880/136913619 [00:03<00:11, 9502778.93it/s] \n",
      " 24%|##4       | 33064960/136913619 [00:03<00:10, 9962560.68it/s]\n",
      " 25%|##5       | 34314240/136913619 [00:03<00:09, 10425436.93it/s]\n",
      " 26%|##5       | 35543040/136913619 [00:03<00:09, 10440255.85it/s]\n",
      " 27%|##6       | 36669440/136913619 [00:03<00:09, 10180058.97it/s]\n",
      " 28%|##7       | 38113280/136913619 [00:03<00:09, 10734636.75it/s]\n",
      " 29%|##8       | 39690240/136913619 [00:03<00:08, 11699725.82it/s]\n",
      " 30%|##9       | 40908800/136913619 [00:03<00:08, 11608904.19it/s]\n",
      " 31%|###       | 42188800/136913619 [00:03<00:08, 11726698.12it/s]\n",
      " 32%|###1      | 43386880/136913619 [00:04<00:08, 11225478.85it/s]\n",
      " 33%|###2      | 44533760/136913619 [00:04<00:08, 10438684.97it/s]\n",
      " 33%|###3      | 45608960/136913619 [00:04<00:08, 10322565.08it/s]\n",
      " 34%|###4      | 46663680/136913619 [00:04<00:08, 10148211.22it/s]\n",
      " 35%|###5      | 48240640/136913619 [00:04<00:07, 11357283.44it/s]\n",
      " 36%|###6      | 49438720/136913619 [00:04<00:08, 10833397.18it/s]\n",
      " 37%|###6      | 50575360/136913619 [00:04<00:08, 10781472.84it/s]\n",
      " 38%|###7      | 51691520/136913619 [00:04<00:08, 10071435.11it/s]\n",
      " 39%|###8      | 53166080/136913619 [00:05<00:07, 10963283.20it/s]\n",
      " 40%|###9      | 54312960/136913619 [00:05<00:09, 8767582.57it/s] \n",
      " 40%|####      | 55296000/136913619 [00:05<00:09, 8404902.45it/s]\n",
      " 41%|####1     | 56432640/136913619 [00:05<00:09, 8758967.76it/s]\n",
      " 42%|####2     | 57630720/136913619 [00:05<00:08, 9371703.74it/s]\n",
      " 43%|####3     | 59054080/136913619 [00:05<00:07, 10293249.28it/s]\n",
      " 44%|####3     | 60200960/136913619 [00:05<00:07, 9861852.90it/s] \n",
      " 45%|####5     | 61706240/136913619 [00:05<00:07, 10590377.66it/s]\n",
      " 46%|####5     | 62935040/136913619 [00:06<00:07, 10555886.81it/s]\n",
      " 47%|####7     | 64491520/136913619 [00:06<00:06, 11670184.25it/s]\n",
      " 48%|####8     | 65720320/136913619 [00:06<00:06, 11775765.07it/s]\n",
      " 49%|####8     | 66949120/136913619 [00:06<00:06, 11022768.67it/s]\n",
      " 50%|####9     | 68259840/136913619 [00:06<00:06, 10783237.13it/s]\n",
      " 51%|#####1    | 69959680/136913619 [00:06<00:05, 11931512.40it/s]\n",
      " 52%|#####2    | 71219200/136913619 [00:06<00:05, 11559675.77it/s]\n",
      " 53%|#####2    | 72427520/136913619 [00:06<00:05, 11149490.18it/s]\n",
      " 54%|#####3    | 73605120/136913619 [00:06<00:05, 11108843.34it/s]\n",
      " 55%|#####4    | 75223040/136913619 [00:07<00:05, 11803575.87it/s]\n",
      " 56%|#####5    | 76554240/136913619 [00:07<00:04, 12191742.85it/s]\n",
      " 57%|#####6    | 77803520/136913619 [00:07<00:05, 11489025.80it/s]\n",
      " 58%|#####7    | 79052800/136913619 [00:07<00:05, 11224057.92it/s]\n",
      " 59%|#####8    | 80363520/136913619 [00:07<00:05, 10903935.20it/s]\n",
      " 60%|#####9    | 81725440/136913619 [00:07<00:04, 11108585.35it/s]\n",
      " 61%|######    | 83230720/136913619 [00:07<00:04, 11862558.53it/s]\n",
      " 62%|######1   | 84449280/136913619 [00:07<00:04, 10971085.37it/s]\n",
      " 63%|######2   | 85708800/136913619 [00:08<00:04, 10706634.20it/s]\n",
      " 63%|######3   | 86804480/136913619 [00:08<00:04, 10568480.12it/s]\n",
      " 64%|######4   | 87879680/136913619 [00:08<00:05, 9293302.78it/s] \n",
      " 65%|######5   | 89067520/136913619 [00:08<00:04, 9662365.72it/s]\n",
      " 66%|######6   | 90961920/136913619 [00:08<00:04, 11194980.87it/s]\n",
      " 67%|######7   | 92200960/136913619 [00:08<00:04, 10331858.12it/s]\n",
      " 68%|######8   | 93440000/136913619 [00:08<00:04, 9773676.45it/s] \n",
      " 69%|######9   | 94586880/136913619 [00:08<00:04, 10224362.94it/s]\n",
      " 70%|#######   | 95887360/136913619 [00:09<00:04, 10202437.07it/s]\n",
      " 71%|#######1  | 97341440/136913619 [00:09<00:03, 10788050.01it/s]\n",
      " 72%|#######1  | 98539520/136913619 [00:09<00:03, 10795854.99it/s]\n",
      " 73%|#######2  | 99778560/136913619 [00:09<00:03, 11193032.15it/s]\n",
      " 74%|#######3  | 101058560/136913619 [00:09<00:03, 11316360.96it/s]\n",
      " 75%|#######4  | 102400000/136913619 [00:09<00:02, 11505110.18it/s]\n",
      " 76%|#######5  | 103761920/136913619 [00:09<00:02, 11940086.25it/s]\n",
      " 77%|#######6  | 105185280/136913619 [00:09<00:02, 12061060.20it/s]\n",
      " 78%|#######7  | 106680320/136913619 [00:09<00:02, 12755014.44it/s]\n",
      " 79%|#######8  | 107980800/136913619 [00:09<00:02, 11881103.85it/s]\n",
      " 80%|#######9  | 109363200/136913619 [00:10<00:02, 12362841.51it/s]\n",
      " 81%|########  | 110622720/136913619 [00:10<00:02, 11820794.29it/s]\n",
      " 82%|########1 | 111831040/136913619 [00:10<00:02, 10343142.19it/s]\n",
      " 82%|########2 | 112916480/136913619 [00:10<00:02, 8347473.78it/s] \n",
      " 84%|########3 | 114380800/136913619 [00:10<00:02, 9459222.18it/s]\n",
      " 84%|########4 | 115589120/136913619 [00:10<00:02, 10015744.55it/s]\n",
      " 85%|########5 | 116684800/136913619 [00:10<00:02, 10030743.99it/s]\n",
      " 86%|########6 | 118067200/136913619 [00:10<00:01, 10749026.91it/s]\n",
      " 87%|########7 | 119203840/136913619 [00:11<00:01, 9698971.94it/s] \n",
      " 88%|########8 | 120791040/136913619 [00:11<00:01, 10424319.31it/s]\n",
      " 89%|########9 | 122265600/136913619 [00:11<00:01, 11427378.22it/s]\n",
      " 90%|######### | 123484160/136913619 [00:11<00:01, 10685411.80it/s]\n",
      " 91%|#########1| 124979200/136913619 [00:11<00:01, 11680514.80it/s]\n",
      " 92%|#########2| 126218240/136913619 [00:11<00:00, 11745769.60it/s]\n",
      " 93%|#########3| 127447040/136913619 [00:11<00:00, 11047726.87it/s]\n",
      " 94%|#########4| 128942080/136913619 [00:11<00:00, 11797932.74it/s]\n",
      " 95%|#########5| 130170880/136913619 [00:12<00:00, 11038143.07it/s]\n",
      " 96%|#########6| 131440640/136913619 [00:12<00:00, 10903701.20it/s]\n",
      " 97%|#########6| 132782080/136913619 [00:12<00:00, 11426361.35it/s]\n",
      " 98%|#########8| 134236160/136913619 [00:12<00:00, 12013299.76it/s]\n",
      " 99%|#########8| 135464960/136913619 [00:12<00:00, 11506956.31it/s]\n",
      "100%|#########9| 136642560/136913619 [00:12<00:00, 11368308.45it/s]\n",
      "100%|##########| 136913619/136913619 [00:12<00:00, 10852734.10it/s]\n",
      "[W:pyppeteer.chromium_downloader] \n",
      "chromium download done.\n",
      "[W:pyppeteer.chromium_downloader] chromium extracted to: C:\\Users\\harik\\AppData\\Local\\pyppeteer\\pyppeteer\\local-chromium\\588429\n",
      "[NbConvertApp] PDF successfully created\n",
      "[NbConvertApp] Writing 128747 bytes to temp.pdf\n"
     ]
    }
   ],
   "source": []
  },
  {
   "cell_type": "code",
   "execution_count": null,
   "metadata": {},
   "outputs": [],
   "source": []
  }
 ],
 "metadata": {
  "interpreter": {
   "hash": "ce44b17c45080b8f56a19c9450d52461d624c968fcd959bb1916985c5ffa2b94"
  },
  "kernelspec": {
   "display_name": "Python 3",
   "language": "python",
   "name": "python3"
  },
  "language_info": {
   "codemirror_mode": {
    "name": "ipython",
    "version": 3
   },
   "file_extension": ".py",
   "mimetype": "text/x-python",
   "name": "python",
   "nbconvert_exporter": "python",
   "pygments_lexer": "ipython3",
   "version": "3.8.5"
  }
 },
 "nbformat": 4,
 "nbformat_minor": 2
}
