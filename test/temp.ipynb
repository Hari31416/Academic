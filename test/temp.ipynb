{
 "cells": [
  {
   "cell_type": "code",
   "execution_count": 3,
   "metadata": {},
   "outputs": [],
   "source": [
    "import os\n",
    "import subprocess"
   ]
  },
  {
   "cell_type": "code",
   "execution_count": 11,
   "metadata": {},
   "outputs": [],
   "source": [
    "# !dir"
   ]
  },
  {
   "cell_type": "code",
   "execution_count": 27,
   "metadata": {},
   "outputs": [
    {
     "name": "stdout",
     "output_type": "stream",
     "text": [
      " Volume in drive C is Hari_SSD\n",
      " Volume Serial Number is DC52-CC40\n",
      "\n",
      " Directory of c:\\Users\\harik\\Desktop\\Academic\\test\n",
      "\n",
      "01/20/2022  14:20    <DIR>          .\n",
      "01/20/2022  11:24    <DIR>          ..\n",
      "01/20/2022  14:20               803 output.py\n",
      "01/20/2022  11:35    <DIR>          run1\n",
      "01/20/2022  11:35    <DIR>          run10\n",
      "01/20/2022  11:35    <DIR>          run11\n",
      "01/20/2022  11:35    <DIR>          run12\n",
      "01/20/2022  11:35    <DIR>          run13\n",
      "01/20/2022  11:35    <DIR>          run14\n",
      "01/20/2022  11:35    <DIR>          run15\n",
      "01/20/2022  11:35    <DIR>          run16\n",
      "01/20/2022  11:35    <DIR>          run17\n",
      "01/20/2022  11:35    <DIR>          run2\n",
      "01/20/2022  11:35    <DIR>          run3\n",
      "01/20/2022  11:35    <DIR>          run4\n",
      "01/20/2022  11:35    <DIR>          run5\n",
      "01/20/2022  11:35    <DIR>          run6\n",
      "01/20/2022  11:35    <DIR>          run7\n",
      "01/20/2022  11:35    <DIR>          run8\n",
      "01/20/2022  11:35    <DIR>          run9\n",
      "01/20/2022  14:15             1,592 start.py\n",
      "01/20/2022  15:07             3,712 temp.ipynb\n",
      "01/20/2022  12:55            75,595 temp.pdf\n",
      "               4 File(s)         81,702 bytes\n",
      "              19 Dir(s)  96,631,980,032 bytes free\n",
      "\n"
     ]
    }
   ],
   "source": [
    "proc = subprocess.Popen('dir', shell=True, stdout=subprocess.PIPE)\n",
    "(out, err) = proc.communicate()\n",
    "out = out.decode('utf-8')\n",
    "print(out)"
   ]
  },
  {
   "cell_type": "code",
   "execution_count": 29,
   "metadata": {},
   "outputs": [
    {
     "name": "stdout",
     "output_type": "stream",
     "text": [
      "  1\n"
     ]
    }
   ],
   "source": [
    "with open(\"run1/geometry.in\", \"r\") as f:\n",
    "    texts = f.readlines()\n",
    "    text = texts[-1]\n",
    "    text = text.split(\"H\")[0].strip()\n",
    "    print(text[-3:])"
   ]
  },
  {
   "cell_type": "code",
   "execution_count": 16,
   "metadata": {},
   "outputs": [
    {
     "name": "stdout",
     "output_type": "stream",
     "text": [
      "atom    0   0   0   H\n",
      "atom0   0   0   1   H\n",
      "atom    0   0   0   H\n",
      "atom0   0   0   2   H\n"
     ]
    }
   ],
   "source": [
    "with open(\"run1\\geometry.in\") as f:\n",
    "    text = f.read()\n",
    "    print(text)\n",
    "    textm = text.replace(\"1\", \"2\")\n",
    "    print(textm)\n",
    "    with open(\"run1\\geometry.in\", \"w\") as f:\n",
    "        f.write(textm)\n",
    "        \n"
   ]
  },
  {
   "cell_type": "code",
   "execution_count": 17,
   "metadata": {},
   "outputs": [
    {
     "data": {
      "text/plain": [
       "['run1',\n",
       " 'run10',\n",
       " 'run11',\n",
       " 'run12',\n",
       " 'run13',\n",
       " 'run14',\n",
       " 'run15',\n",
       " 'run16',\n",
       " 'run2',\n",
       " 'run3',\n",
       " 'run4',\n",
       " 'run5',\n",
       " 'run6',\n",
       " 'run7',\n",
       " 'run8',\n",
       " 'run9',\n",
       " 'start.py',\n",
       " 'temp.ipynb']"
      ]
     },
     "execution_count": 17,
     "metadata": {},
     "output_type": "execute_result"
    }
   ],
   "source": [
    "os.listdir()"
   ]
  },
  {
   "cell_type": "code",
   "execution_count": 18,
   "metadata": {},
   "outputs": [
    {
     "data": {
      "text/plain": [
       "CompletedProcess(args=['jupyter', 'nbconvert', '--to', 'webpdf', 'C:\\\\Users\\\\harik\\\\Desktop\\\\Academic\\\\test\\\\temp.ipynb'], returncode=0)"
      ]
     },
     "execution_count": 18,
     "metadata": {},
     "output_type": "execute_result"
    }
   ],
   "source": [
    "import subprocess\n",
    "subprocess.run([\"jupyter\", \"nbconvert\", \"--to\", \"webpdf\", r\"C:\\Users\\harik\\Desktop\\Academic\\test\\temp.ipynb\"])"
   ]
  },
  {
   "cell_type": "code",
   "execution_count": null,
   "metadata": {},
   "outputs": [],
   "source": []
  }
 ],
 "metadata": {
  "interpreter": {
   "hash": "ce44b17c45080b8f56a19c9450d52461d624c968fcd959bb1916985c5ffa2b94"
  },
  "kernelspec": {
   "display_name": "Python 3.8.5 64-bit ('base': conda)",
   "language": "python",
   "name": "python3"
  },
  "language_info": {
   "codemirror_mode": {
    "name": "ipython",
    "version": 3
   },
   "file_extension": ".py",
   "mimetype": "text/x-python",
   "name": "python",
   "nbconvert_exporter": "python",
   "pygments_lexer": "ipython3",
   "version": "3.8.5"
  },
  "orig_nbformat": 4
 },
 "nbformat": 4,
 "nbformat_minor": 2
}
