{
 "cells": [
  {
   "cell_type": "markdown",
   "metadata": {},
   "source": [
    "<table class=\"tfo-notebook-buttons\" align=\"left\">\n",
    "<td style=\"border: none;\">\n",
    "<a target=\"blank\" href=\"https://colab.research.google.com/github/Hari31416/Academic/blob/main/Codes/Assignment5/assignment5.ipynb?hl=en\"><img src=\"https://colab.research.google.com/img/colab_favicon_256px.png\" width=\"28\" height=\"28\"/>Run on Google Colab</a></td>\n",
    "<td style=\"border: none;\">\n",
    "<a target=\"blank\" href=\"https://github.com/Hari31416/Academic/blob/main/Codes/Assignment5/assignment5.ipynb\"><img src=\"https://cdn.icon-icons.com/icons2/2368/PNG/512/github_logo_icon_143772.png\" width=\"28\" height=\"28\"/>View on Github</a></td>\n",
    "<td style=\"border: none;\">\n",
    "</table>"
   ]
  },
  {
   "cell_type": "code",
   "execution_count": 1,
   "metadata": {},
   "outputs": [],
   "source": [
    "import plotly.graph_objects as go\n",
    "import numpy as np\n",
    "import matplotlib.pyplot as plt\n",
    "import tqdm"
   ]
  },
  {
   "cell_type": "markdown",
   "metadata": {},
   "source": [
    "### Helper Functions"
   ]
  },
  {
   "cell_type": "code",
   "execution_count": 2,
   "metadata": {},
   "outputs": [],
   "source": [
    "def eiktau(ks, tau, minus=False):\n",
    "    exponetial = np.exp(np.complex(0, 1)*np.dot(ks, tau))\n",
    "    mod_tau = np.linalg.norm(tau)\n",
    "    if minus:\n",
    "        mod_tau = -mod_tau\n",
    "    return exponetial*mod_tau\n",
    "\n",
    "def sqrt3by2():\n",
    "    return np.sqrt(3)/2\n",
    "\n",
    "def sum_for_ks(ks, points, minus = False):\n",
    "    sum = 0\n",
    "    for point in points:\n",
    "        sum += eiktau(ks, point, minus=minus)\n",
    "\n",
    "    return np.abs(sum)"
   ]
  },
  {
   "cell_type": "code",
   "execution_count": 3,
   "metadata": {},
   "outputs": [
    {
     "data": {
      "text/plain": [
       "(-3.3261274407928134+0.9679236786054194j)"
      ]
     },
     "execution_count": 3,
     "metadata": {},
     "output_type": "execute_result"
    }
   ],
   "source": [
    "eiktau([1,1,1], [2,2,2], minus=True)"
   ]
  },
  {
   "cell_type": "code",
   "execution_count": 4,
   "metadata": {},
   "outputs": [
    {
     "data": {
      "text/plain": [
       "4.743291269190796"
      ]
     },
     "execution_count": 4,
     "metadata": {},
     "output_type": "execute_result"
    }
   ],
   "source": [
    "a=1 \n",
    "b=1\n",
    "points = [[0,a,0], [a*sqrt3by2(), -a/2, 0], [-a*sqrt3by2(), -a/2, 0],\n",
    "          [0,0,b], [a*sqrt3by2(), a/2, b], [0, -a, b], [-a*sqrt3by2(), a/2, b]]\n",
    "sum_for_ks([1,1,1], points, minus=False)"
   ]
  },
  {
   "cell_type": "markdown",
   "metadata": {},
   "source": [
    "### Plot"
   ]
  },
  {
   "cell_type": "code",
   "execution_count": 5,
   "metadata": {},
   "outputs": [],
   "source": [
    "def plot_band_structure(points, eatomic = 1, gamma = 1):\n",
    "    \n",
    "    kxs = np.linspace(-4, 4, 100)\n",
    "    kys = np.linspace(-4, 4, 100)\n",
    "    kzs = np.linspace(-4, 4, 100)\n",
    "\n",
    "    Esp = np.zeros((100, 100, 100))\n",
    "    Esn = np.zeros((100, 100, 100))\n",
    "    # print(\"Calculating for negative value of gamma.\")\n",
    "    for i in tqdm.tqdm(range(len(kxs)), desc='Calculating...'):\n",
    "        for l in range(len(kys)):\n",
    "            for k in range(len(kzs)):\n",
    "                Esp[i, l, k] = sum_for_ks([kxs[i], kys[l], kzs[k]], points, minus=False)\n",
    "    # print(\"Done!\")\n",
    "\n",
    "    # print(\"Calculating for positive value of gamma.\")\n",
    "    # for i in tqdm.tqdm(range(len(kxs)), desc='Calculating...'):\n",
    "    #     for l in range(len(kys)):\n",
    "    #         for k in range(len(kzs)):\n",
    "    #             Esn[i, l, k] = sum_for_ks([kxs[i], kys[l], kzs[k]], points, minus=True)\n",
    "\n",
    "    x, y = np.meshgrid(kxs, kys)\n",
    "    # E1 = eatomic + gamma*Esp[:, :, 0]\n",
    "    # E1 = eatomic + gamma*Esp[:, :, 0]\n",
    "    fig =  go.Figure(data = [go.Surface(x=x, y=y, z=Esp[:, :, 0]),\n",
    "        go.Surface(x=x, y=y, z=-Esp[:, :, 0]),\n",
    "        # go.Surface(x=x, y=y, z=Esn[:, :, 0]),\n",
    "        # go.Surface(x=x, y=y, z=-Esn[:, :, 0])\n",
    "        ])\n",
    "\n",
    "    fig.update_layout(title='Band Structure',\n",
    "        scene = dict(\n",
    "            xaxis_title='kx',\n",
    "            yaxis_title='ky',\n",
    "            zaxis_title='E'\n",
    "        ))\n",
    "    fig.show()\n",
    "    return Esp"
   ]
  },
  {
   "cell_type": "markdown",
   "metadata": {},
   "source": [
    "### AB Configuration"
   ]
  },
  {
   "cell_type": "code",
   "execution_count": null,
   "metadata": {},
   "outputs": [
    {
     "name": "stderr",
     "output_type": "stream",
     "text": [
      "Calculating...:  70%|█████████████████████████████████████████████▌                   | 70/100 [01:46<00:43,  1.44s/it]"
     ]
    }
   ],
   "source": [
    "a=1 \n",
    "b=1\n",
    "points = [[0,a,0], [a*sqrt3by2(), -a/2, 0], [-a*sqrt3by2(), -a/2, 0],\n",
    "          [0,0,b], [a*sqrt3by2(), a/2, b], [0, -a, b], [-a*sqrt3by2(), a/2, b]]\n",
    "\n",
    "Esp = plot_band_structure(points)"
   ]
  },
  {
   "cell_type": "code",
   "execution_count": null,
   "metadata": {},
   "outputs": [],
   "source": [
    "a=1 \n",
    "b=1\n",
    "points = [[0,a,0], [a*sqrt3by2(), -a/2, 0], [-a*sqrt3by2(), -a/2, 0],\n",
    "          [0,0,b], [a*sqrt3by2(), -a/2, b], [0, a, b], [-a*sqrt3by2(), -a/2, b]]\n",
    "\n",
    "E = plot_band_structure(points)"
   ]
  },
  {
   "cell_type": "markdown",
   "metadata": {},
   "source": [
    "### 4 Nearest Neighbours"
   ]
  },
  {
   "cell_type": "code",
   "execution_count": null,
   "metadata": {},
   "outputs": [],
   "source": [
    "a=1 \n",
    "b=1\n",
    "points = [[0,a,0], [a*sqrt3by2(), -a/2, 0], [-a*sqrt3by2(), -a/2, 0],\n",
    "          [0,0,b],\n",
    "        #   [a*sqrt3by2(), -a/2, b], [0, a, b], [-a*sqrt3by2(), -a/2, b]\n",
    "          ]\n",
    "\n",
    "E = plot_band_structure(points)"
   ]
  },
  {
   "cell_type": "markdown",
   "metadata": {},
   "source": [
    "### Monolayer"
   ]
  },
  {
   "cell_type": "code",
   "execution_count": null,
   "metadata": {},
   "outputs": [],
   "source": [
    "a=1 \n",
    "b=1\n",
    "points = [[0,a,0], [a*sqrt3by2(), -a/2, 0], [-a*sqrt3by2(), -a/2, 0],\n",
    "        #   [0,0,b], [a*sqrt3by2(), -a/2, b], [0, a, b], [-a*sqrt3by2(), -a/2, b]\n",
    "          ]\n",
    "\n",
    "E = plot_band_structure(points)"
   ]
  },
  {
   "cell_type": "code",
   "execution_count": null,
   "metadata": {},
   "outputs": [],
   "source": [
    "a=1 \n",
    "b=1\n",
    "points = [[-a,0,0], [a/2, a*sqrt3by2(), 0], [a/2, -a*sqrt3by2(), 0],\n",
    "        #   [0,0,b], [a*sqrt3by2(), -a/2, b], [0, a, b], [-a*sqrt3by2(), -a/2, b]\n",
    "          ]\n",
    "\n",
    "E = plot_band_structure(points)"
   ]
  },
  {
   "cell_type": "code",
   "execution_count": null,
   "metadata": {},
   "outputs": [],
   "source": []
  }
 ],
 "metadata": {
  "interpreter": {
   "hash": "852f6817c374c63ade76971e91c27771dd3e6e8efc4a3caead6137c0182519f6"
  },
  "kernelspec": {
   "display_name": "Python 3",
   "language": "python",
   "name": "python3"
  },
  "language_info": {
   "codemirror_mode": {
    "name": "ipython",
    "version": 3
   },
   "file_extension": ".py",
   "mimetype": "text/x-python",
   "name": "python",
   "nbconvert_exporter": "python",
   "pygments_lexer": "ipython3",
   "version": "3.8.5"
  }
 },
 "nbformat": 4,
 "nbformat_minor": 2
}
