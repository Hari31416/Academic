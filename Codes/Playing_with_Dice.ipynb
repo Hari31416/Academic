{
 "cells": [
  {
   "cell_type": "markdown",
   "metadata": {},
   "source": [
    "<table class=\"tfo-notebook-buttons\" align=\"left\">\n",
    "<td style=\"border: none;\">\n",
    "<a target=\"blank\" href=\"https://colab.research.google.com/github/Hari31416/PYL800/blob/main/Codes/Playing_with_Dice.ipynb?hl=en\"><img src=\"https://colab.research.google.com/img/colab_favicon_256px.png\" width=\"28\" height=\"28\"/>Run on Google Colab</a></td>\n",
    "<td style=\"border: none;\">\n",
    "<a target=\"blank\" href=\"https://github.com/Hari31416/PYL800/blob/main/Codes/Playing_with_Dice.ipynb\"><img src=\"https://cdn.icon-icons.com/icons2/2368/PNG/512/github_logo_icon_143772.png\" width=\"28\" height=\"28\"/>View on Github</a></td>\n",
    "<td style=\"border: none;\">\n",
    "</table>"
   ]
  },
  {
   "cell_type": "markdown",
   "metadata": {},
   "source": [
    "### Imports"
   ]
  },
  {
   "cell_type": "code",
   "execution_count": 6,
   "metadata": {},
   "outputs": [],
   "source": [
    "import numpy as np\n",
    "import matplotlib.pyplot as plt\n",
    "import tqdm\n",
    "from IPython.display import clear_output\n",
    "import random"
   ]
  },
  {
   "cell_type": "markdown",
   "metadata": {},
   "source": [
    "### Problem Statement"
   ]
  },
  {
   "cell_type": "markdown",
   "metadata": {},
   "source": [
    "The problem is this:\n",
    "\n",
    "A throws 6 dice and wins if he/she gets at least one 1, also called \"ACE\".\n",
    "\n",
    "A throws 12 dice and wins if he/she gets at least two 1 Aces.\n",
    "\n",
    "Who has the greater chance of winning?"
   ]
  },
  {
   "cell_type": "markdown",
   "metadata": {},
   "source": [
    "I'll start by a simulation. I'll \"create\" A and B and let them throw the dice a number of time. I'll count the number of times one of them wins. "
   ]
  },
  {
   "cell_type": "code",
   "execution_count": 7,
   "metadata": {},
   "outputs": [],
   "source": [
    "class Player:\n",
    "    def __init__(self, num_dice, name = \"X\", ):\n",
    "        \"\"\"Instantiate a player with a name and number of dice.\n",
    "        \n",
    "        Parameters\n",
    "        ----------\n",
    "        num_dice : int\n",
    "            Number of dice\n",
    "\n",
    "        name : str (optional)\n",
    "            The name of the player.\n",
    "            default: \"X\"\n",
    "\n",
    "        Returns\n",
    "        -------\n",
    "        None\n",
    "        \"\"\"\n",
    "        self.name = name\n",
    "        self.num_dice = num_dice\n",
    "        self.wins = 0\n",
    "        self.all = 0\n",
    "\n",
    "    def _roll_(self):\n",
    "        \"\"\"Roll the dice.\n",
    "        Updates the `all` attribute accordingly.\n",
    "\n",
    "        Returns\n",
    "        -------\n",
    "        list\n",
    "            The list of dice rolls.\n",
    "        \"\"\"\n",
    "        self.rolls = []\n",
    "        for i in range(self.num_dice):\n",
    "            self.rolls.append(random.randint(1, 6))\n",
    "        self.all +=1\n",
    "        return self.rolls\n",
    "\n",
    "    def check_win(self, num_aces):\n",
    "        \"\"\"Check if the player has won.\n",
    "        Updates the wins attribute accordingly.\n",
    "        Parameters\n",
    "        ----------\n",
    "        num_aces : int\n",
    "            Number of aces in the roll.\n",
    "        \n",
    "        Returns\n",
    "        -------\n",
    "        None\n",
    "        \"\"\"\n",
    "        rolls = self._roll_()\n",
    "        rolls.sort(reverse=True)\n",
    "        value = \"\"\n",
    "        for _ in range(num_aces):\n",
    "            value += \"1\"\n",
    "        \n",
    "        if value in \"\".join(str(x) for x in rolls):\n",
    "            self.wins += 1\n",
    "\n",
    "    def probabilty(self):\n",
    "        \"\"\"Calculate the probability of winning.\n",
    "        \n",
    "        Returns\n",
    "        -------\n",
    "        float\n",
    "            The probability of winning.\n",
    "        \"\"\"\n",
    "        return round(self.wins/self.all,4)"
   ]
  },
  {
   "cell_type": "code",
   "execution_count": 8,
   "metadata": {},
   "outputs": [],
   "source": [
    "A = Player(6)\n",
    "B = Player(12)"
   ]
  },
  {
   "cell_type": "code",
   "execution_count": 9,
   "metadata": {},
   "outputs": [],
   "source": [
    "for i in range(100000):\n",
    "    A.check_win(1)\n",
    "    B.check_win(2)"
   ]
  },
  {
   "cell_type": "code",
   "execution_count": 10,
   "metadata": {},
   "outputs": [
    {
     "data": {
      "text/plain": [
       "0.6678"
      ]
     },
     "execution_count": 10,
     "metadata": {},
     "output_type": "execute_result"
    }
   ],
   "source": [
    "A.probabilty()"
   ]
  },
  {
   "cell_type": "code",
   "execution_count": 11,
   "metadata": {},
   "outputs": [
    {
     "data": {
      "text/plain": [
       "0.617"
      ]
     },
     "execution_count": 11,
     "metadata": {},
     "output_type": "execute_result"
    }
   ],
   "source": [
    "B.probabilty()"
   ]
  },
  {
   "cell_type": "markdown",
   "metadata": {},
   "source": [
    "Player A wins."
   ]
  },
  {
   "cell_type": "markdown",
   "metadata": {},
   "source": [
    "### Generalizing"
   ]
  },
  {
   "cell_type": "markdown",
   "metadata": {},
   "source": [
    "#### Plotting Number of Aces vs. Number of Dice"
   ]
  },
  {
   "cell_type": "code",
   "execution_count": 5,
   "metadata": {},
   "outputs": [
    {
     "name": "stderr",
     "output_type": "stream",
     "text": [
      "Calculating Probability...: 100%|██████████| 50/50 [22:47<00:00, 27.34s/it]\n"
     ]
    }
   ],
   "source": [
    "ones = np.arange(1,51)\n",
    "dice  = ones*6\n",
    "probability = []\n",
    "\n",
    "for i in tqdm.tqdm(range(1,51), desc=\"Calculating Probability...\"):\n",
    "    player = Player(dice[i-1])\n",
    "    print(\"Currently on Player: \", i)\n",
    "    clear_output(wait=True)\n",
    "\n",
    "    for j in range(100000):\n",
    "        player.check_win(ones[i-1])\n",
    "    probability.append(player.probabilty())"
   ]
  },
  {
   "cell_type": "code",
   "execution_count": 10,
   "metadata": {},
   "outputs": [
    {
     "data": {
      "image/png": "[encoded data removed]",
      "text/plain": [
       "<Figure size 720x432 with 1 Axes>"
      ]
     },
     "metadata": {
      "needs_background": "light"
     },
     "output_type": "display_data"
    }
   ],
   "source": [
    "plt.figure(figsize=(10,6))\n",
    "plt.scatter(ones, probability)\n",
    "plt.plot(ones, probability)\n",
    "plt.xlabel(\"Number of Aces\")\n",
    "plt.ylabel(\"Probability\");"
   ]
  },
  {
   "cell_type": "markdown",
   "metadata": {},
   "source": [
    "The below two lines of code won't work in google colab or in your local machine!"
   ]
  },
  {
   "cell_type": "code",
   "execution_count": 6,
   "metadata": {},
   "outputs": [],
   "source": [
    "from life_saving_tools.Notification import Notification\n",
    "n = Notification()"
   ]
  },
  {
   "cell_type": "code",
   "execution_count": 8,
   "metadata": {},
   "outputs": [
    {
     "name": "stdout",
     "output_type": "stream",
     "text": [
      "SM88722a297daf42379c19f3527e614d8f\n"
     ]
    }
   ],
   "source": [
    "n.send_whatsapp_text(\"Hey, I just finished my analysis of the probability of rolling a number of aces in a 6-sided die.\")"
   ]
  },
  {
   "cell_type": "markdown",
   "metadata": {},
   "source": [
    "#### 1000 Aces"
   ]
  },
  {
   "cell_type": "code",
   "execution_count": 11,
   "metadata": {},
   "outputs": [
    {
     "name": "stderr",
     "output_type": "stream",
     "text": [
      "Calculating Probability...: 100%|██████████| 100000/100000 [21:27<00:00, 77.69it/s]\n"
     ]
    },
    {
     "data": {
      "text/plain": [
       "0.5077"
      ]
     },
     "execution_count": 11,
     "metadata": {},
     "output_type": "execute_result"
    }
   ],
   "source": [
    "X  = Player(6000)\n",
    "for _ in tqdm.tqdm(range(100000), desc=\"Calculating Probability...\"):\n",
    "    X.check_win(1000)\n",
    "\n",
    "X.probabilty()"
   ]
  },
  {
   "cell_type": "markdown",
   "metadata": {},
   "source": [
    "The probability is about 50%."
   ]
  },
  {
   "cell_type": "markdown",
   "metadata": {},
   "source": [
    "Again, the below cell won't work in google colab or in your local machine!"
   ]
  },
  {
   "cell_type": "code",
   "execution_count": 12,
   "metadata": {},
   "outputs": [
    {
     "name": "stdout",
     "output_type": "stream",
     "text": [
      "SM16cf0b20e9eb4c1585c52b13155e8345\n"
     ]
    }
   ],
   "source": [
    "prob = X.probabilty()\n",
    "text = \"The probability of rolling 1000 aces in a 6000-sided die is: {}\".format(prob)\n",
    "n.send_whatsapp_text(text)"
   ]
  },
  {
   "cell_type": "markdown",
   "metadata": {},
   "source": [
    "#### 10000 Aces"
   ]
  },
  {
   "cell_type": "code",
   "execution_count": 41,
   "metadata": {},
   "outputs": [
    {
     "name": "stderr",
     "output_type": "stream",
     "text": [
      "Calculating Probability...:   0%|          | 48/100000 [00:06<3:26:36,  8.06it/s]"
     ]
    }
   ],
   "source": [
    "#Run this cell on your own risk\n",
    "X  = Player(60000)\n",
    "for _ in tqdm.tqdm(range(100000), desc=\"Calculating Probability...\"):\n",
    "    X.check_win(10000)\n",
    "\n",
    "X.probabilty()"
   ]
  }
 ],
 "metadata": {
  "interpreter": {
   "hash": "ce44b17c45080b8f56a19c9450d52461d624c968fcd959bb1916985c5ffa2b94"
  },
  "kernelspec": {
   "display_name": "Python 3.8.5 ('base')",
   "language": "python",
   "name": "python3"
  },
  "language_info": {
   "codemirror_mode": {
    "name": "ipython",
    "version": 3
   },
   "file_extension": ".py",
   "mimetype": "text/x-python",
   "name": "python",
   "nbconvert_exporter": "python",
   "pygments_lexer": "ipython3",
   "version": "3.8.5"
  },
  "orig_nbformat": 4
 },
 "nbformat": 4,
 "nbformat_minor": 2
}
