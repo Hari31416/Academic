{
 "cells": [
  {
   "cell_type": "code",
   "execution_count": 1,
   "metadata": {},
   "outputs": [],
   "source": [
    "import os\n",
    "import shutil"
   ]
  },
  {
   "cell_type": "code",
   "execution_count": 5,
   "metadata": {},
   "outputs": [
    {
     "name": "stdout",
     "output_type": "stream",
     "text": [
      "Done run 1\n",
      "Done run 2\n",
      "Done run 3\n",
      "Done run 4\n",
      "Done run 5\n",
      "Done run 6\n",
      "Done run 7\n"
     ]
    }
   ],
   "source": [
    "points = [f\"{i} {i} 2\" for i in range(1,8)]\n",
    "\n",
    "assert len(points) <= 10 \n",
    "\n",
    "with open(\"control.in\") as f:\n",
    "    text = f.read()\n",
    "\n",
    "for i in range(len(points)):\n",
    "    os.makedirs(\"run\"+str(i+1), exist_ok=True)\n",
    "    shutil.copy(\"aims_sub.sh\", \"run\"+str(i+1))\n",
    "    shutil.copy(\"geometry.in\", \"run\"+str(i+1))\n",
    "    # shutil.copy(\"control.in\", \"run\"+str(i+1))\n",
    "\n",
    "    with open(\"run\"+str(i+1)+\"/control.in\", \"w\") as f:\n",
    "        text_new = text.replace(\"fillme\", str(points[i]))\n",
    "        f.write(text_new)\n",
    "    print(\"Done run\", i+1)\n",
    "    "
   ]
  },
  {
   "cell_type": "code",
   "execution_count": null,
   "metadata": {},
   "outputs": [],
   "source": []
  }
 ],
 "metadata": {
  "interpreter": {
   "hash": "ce44b17c45080b8f56a19c9450d52461d624c968fcd959bb1916985c5ffa2b94"
  },
  "kernelspec": {
   "display_name": "Python 3.8.5",
   "language": "python",
   "name": "python3"
  },
  "language_info": {
   "codemirror_mode": {
    "name": "ipython",
    "version": 3
   },
   "file_extension": ".py",
   "mimetype": "text/x-python",
   "name": "python",
   "nbconvert_exporter": "python",
   "pygments_lexer": "ipython3",
   "version": "3.8.5"
  },
  "orig_nbformat": 4
 },
 "nbformat": 4,
 "nbformat_minor": 2
}
