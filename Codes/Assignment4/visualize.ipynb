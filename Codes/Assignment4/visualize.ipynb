{
 "cells": [
  {
   "cell_type": "code",
   "execution_count": 1,
   "metadata": {},
   "outputs": [],
   "source": [
    "import numpy as np\n",
    "import matplotlib.pyplot as plt\n",
    "import pandas as pd\n",
    "import seaborn as sns\n",
    "import os"
   ]
  },
  {
   "cell_type": "code",
   "execution_count": 7,
   "metadata": {},
   "outputs": [],
   "source": [
    "def visualize(directory):\n",
    "    try:\n",
    "        data_dir = os.path.join(directory, \"KS_DOS_total.dat\")\n",
    "        control_dir = os.path.join(directory, \"control.in\")\n",
    "    except BaseException:\n",
    "        print(\"File not found.\")\n",
    "    \n",
    "    with open(control_dir, \"r\") as f:\n",
    "        texts = f.readlines()\n",
    "        text = list(filter(lambda x: \"output dos\" in x, texts))[0].strip()\n",
    "        value = text.split(\" \")[-1]\n",
    "        # print(value)\n",
    "\n",
    "    data = np.loadtxt(data_dir)\n",
    "    df = pd.DataFrame(data[:, :2], columns=[\"Energy\", \"DOS\"])\n",
    "\n",
    "    plt.figure(figsize=(10,6))\n",
    "    sns.lineplot(data = df, x=\"Energy\", y=\"DOS\")\n",
    "    plt.title(f\"DOS = {value}\")\n",
    "    plt.ylim(0, 0.7);"
   ]
  },
  {
   "cell_type": "code",
   "execution_count": 8,
   "metadata": {},
   "outputs": [
    {
     "name": "stdout",
     "output_type": "stream",
     "text": [
      "run1\n",
      "No file found.\n",
      "run2\n",
      "No file found.\n",
      "run3\n",
      "No file found.\n",
      "run4\n",
      "No file found.\n",
      "run5\n",
      "No file found.\n",
      "run6\n",
      "No file found.\n",
      "run7\n",
      "No file found.\n",
      "run8\n",
      "No file found.\n",
      "run9\n",
      "No file found.\n"
     ]
    }
   ],
   "source": [
    "for dir in os.listdir(r\"kpoint1\"):\n",
    "    if '.' not in dir:\n",
    "        print(dir)\n",
    "        try:\n",
    "            visualize(dir)\n",
    "            # plt.savefig(os.path.join(dir, \"DOS.png\"))\n",
    "        except BaseException:\n",
    "            print(\"No file found.\")"
   ]
  },
  {
   "cell_type": "code",
   "execution_count": null,
   "metadata": {},
   "outputs": [],
   "source": []
  }
 ],
 "metadata": {
  "interpreter": {
   "hash": "ce44b17c45080b8f56a19c9450d52461d624c968fcd959bb1916985c5ffa2b94"
  },
  "kernelspec": {
   "display_name": "Python 3.8.5",
   "language": "python",
   "name": "python3"
  },
  "language_info": {
   "codemirror_mode": {
    "name": "ipython",
    "version": 3
   },
   "file_extension": ".py",
   "mimetype": "text/x-python",
   "name": "python",
   "nbconvert_exporter": "python",
   "pygments_lexer": "ipython3",
   "version": "3.8.5"
  },
  "orig_nbformat": 4
 },
 "nbformat": 4,
 "nbformat_minor": 2
}
