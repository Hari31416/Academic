{
 "cells": [
  {
   "cell_type": "code",
   "execution_count": 1,
   "metadata": {},
   "outputs": [],
   "source": [
    "with open(\"raw_data.txt\", \"r\") as f:\n",
    "    data = f.read()"
   ]
  },
  {
   "cell_type": "code",
   "execution_count": 2,
   "metadata": {},
   "outputs": [
    {
     "data": {
      "text/plain": [
       "3330"
      ]
     },
     "execution_count": 2,
     "metadata": {},
     "output_type": "execute_result"
    }
   ],
   "source": [
    "len(data)"
   ]
  },
  {
   "cell_type": "markdown",
   "metadata": {},
   "source": [
    "1. Search for `\\nConverged`. Get th index.\n",
    "2. Four lines above that are original geometry.\n",
    "3. Four lines below that are the final geometry.\n",
    "4. Search for `Energy`.\n",
    "5. The line below that is the energy."
   ]
  },
  {
   "cell_type": "code",
   "execution_count": 3,
   "metadata": {},
   "outputs": [
    {
     "name": "stdout",
     "output_type": "stream",
     "text": [
      "FINAL GEOMETRY:\n",
      "atom        -1.02195984       -0.04171919       -0.00000000  Co\n",
      "atom         1.02195984       -0.04171915       -0.00000000  Co\n",
      "atom        -0.00000003        2.07303559        0.00000002  Co\n",
      "atom         0.00000003        4.01040275       -0.00000001  Zr\n",
      "INITIAL GEOMETRY:\n",
      "atom    -1      0       0       Co\n",
      "atom    1       0       0       Co\n",
      "atom    0       2       0       Co\n",
      "atom    0       4       0       Zr\n",
      "ENERGY:\n",
      "-212991.530759\n"
     ]
    }
   ],
   "source": [
    "i=0\n",
    "position= data.find(\"\\nConverged\\n\", i)\n",
    "print(\"FINAL GEOMETRY:\")\n",
    "print(\"\\n\".join(data[position:].split(\"\\n\")[3:7]))\n",
    "print(\"INITIAL GEOMETRY:\")\n",
    "print(\"\\n\".join(data[:position].split(\"\\n\")[-4:]))\n",
    "e_position= data.find(\"\\nEnergy\\n\", i)\n",
    "print(\"ENERGY:\")\n",
    "print(data[e_position:].split(\"\\n\")[2])"
   ]
  },
  {
   "cell_type": "code",
   "execution_count": 6,
   "metadata": {},
   "outputs": [
    {
     "data": {
      "text/plain": [
       "-1"
      ]
     },
     "execution_count": 6,
     "metadata": {},
     "output_type": "execute_result"
    }
   ],
   "source": [
    "data.find(\"\\nConverged\\n\", 3125)"
   ]
  },
  {
   "cell_type": "code",
   "execution_count": 7,
   "metadata": {},
   "outputs": [
    {
     "name": "stdout",
     "output_type": "stream",
     "text": [
      "0\n",
      "325\n",
      "775\n",
      "1141\n",
      "1507\n",
      "2046\n",
      "2498\n",
      "3125\n"
     ]
    }
   ],
   "source": [
    "i = 0\n",
    "i_geometries = []\n",
    "f_geometries = []\n",
    "energies = []\n",
    "while i < len(data):\n",
    "    print(i)\n",
    "    position= data.find(\"\\nConverged\\n\", i)\n",
    "    if position == -1:\n",
    "        break\n",
    "    e_position= data.find(\"\\nEnergy\\n\", i)\n",
    "    f_geometry = \"\\n\".join(data[position:].split(\"\\n\")[3:7])\n",
    "    i_geometry = \"\\n\".join(data[:position].split(\"\\n\")[-4:])\n",
    "    energy = data[e_position:].split(\"\\n\")[2]\n",
    "\n",
    "    i_geometries.append(i_geometry)\n",
    "    f_geometries.append(f_geometry)\n",
    "    energies.append(energy)\n",
    "    i = position+10"
   ]
  },
  {
   "cell_type": "code",
   "execution_count": 8,
   "metadata": {},
   "outputs": [
    {
     "data": {
      "text/plain": [
       "(7, 7, 7)"
      ]
     },
     "execution_count": 8,
     "metadata": {},
     "output_type": "execute_result"
    }
   ],
   "source": [
    "len(i_geometries), len(f_geometries), len(energies)"
   ]
  },
  {
   "cell_type": "code",
   "execution_count": 10,
   "metadata": {},
   "outputs": [
    {
     "name": "stdout",
     "output_type": "stream",
     "text": [
      "atom        -1.02195984       -0.04171919       -0.00000000  Co\n",
      "atom         1.02195984       -0.04171915       -0.00000000  Co\n",
      "atom        -0.00000003        2.07303559        0.00000002  Co\n",
      "atom         0.00000003        4.01040275       -0.00000001  Zr\n",
      "FINAL\n",
      "atom        -0.74415541       -0.35114249        0.00000005  Co\n",
      "atom         0.97367750        0.82228537       -0.00000003  Zr\n",
      "atom        -0.89607783        2.03889434       -0.00000006  Co\n",
      "atom         0.66655574        3.48996277        0.00000004  Co\n",
      "FINAL\n",
      "atom        -0.28221476       -0.28221486       -0.28221486  Zr\n",
      "atom         1.89849074        0.19186199        0.19186198  Co\n",
      "atom         0.19186202        1.89849080        0.19186207  Co\n",
      "atom         0.19186200        0.19186207        1.89849081  Co\n",
      "FINAL\n",
      "atom         0.00000001       -0.00000002       -0.16985336  Co\n",
      "atom        -0.00000002        0.00000002        1.95213864  Co\n",
      "atom         0.00000000        0.00000001        4.12362956  Zr\n",
      "atom         0.00000001       -0.00000001        6.09408515  Co\n",
      "FINAL\n",
      "atom         0.00000000        0.00000001       -0.09408521  Co\n",
      "atom         0.00000001       -0.00000003        1.87637001  Zr\n",
      "atom        -0.00000003        0.00000002        4.04786115  Co\n",
      "atom         0.00000002       -0.00000000        6.16985405  Co\n",
      "FINAL\n",
      "atom        -0.45698498       -0.45698490        0.00000000  Co\n",
      "atom         1.47449397        1.47449396        0.00000000  Zr\n",
      "atom        -0.71922188        1.70171278       -0.00000000  Co\n",
      "atom         1.70171289       -0.71922183       -0.00000000  Co\n",
      "FINAL\n",
      "atom\t-0.00000001\t0.02548169\t0.02548171\tZr\n",
      "atom\t-0.00000001\t1.95700626\t1.95700627\tCo\n",
      "atom\t0.00000001\t2.21922138\t-0.20170932\tCo\n",
      "Energy\n",
      "FINAL\n"
     ]
    }
   ],
   "source": [
    "for g in f_geometries:\n",
    "    print(g)\n",
    "    print(\"FINAL\")"
   ]
  },
  {
   "cell_type": "code",
   "execution_count": 91,
   "metadata": {},
   "outputs": [],
   "source": [
    "import shelve\n",
    "data_processed = shelve.open(\"data_processed\")\n",
    "data_processed[\"i_geometries\"] = i_geometries\n",
    "data_processed[\"f_geometries\"] = f_geometries\n",
    "data_processed[\"energies\"] = energies\n",
    "data_processed.close()"
   ]
  },
  {
   "cell_type": "code",
   "execution_count": 92,
   "metadata": {},
   "outputs": [],
   "source": [
    "g1 = i_geometries[0]"
   ]
  },
  {
   "cell_type": "code",
   "execution_count": 94,
   "metadata": {},
   "outputs": [],
   "source": [
    "g1 = g1.strip()"
   ]
  },
  {
   "cell_type": "code",
   "execution_count": 100,
   "metadata": {},
   "outputs": [],
   "source": [
    "g1_list = g1.split(\" \")"
   ]
  },
  {
   "cell_type": "code",
   "execution_count": 103,
   "metadata": {},
   "outputs": [],
   "source": [
    "g1_cleaned = list(filter(lambda x: x!=\"\", g1_list))"
   ]
  },
  {
   "cell_type": "code",
   "execution_count": 120,
   "metadata": {},
   "outputs": [],
   "source": [
    "g1_cleaned = \"\\n\".join(g1_cleaned).split(\"\\n\")"
   ]
  },
  {
   "cell_type": "code",
   "execution_count": 121,
   "metadata": {},
   "outputs": [
    {
     "name": "stdout",
     "output_type": "stream",
     "text": [
      "atom\n",
      "-1\n",
      "0\n",
      "0\n",
      "Co\n"
     ]
    }
   ],
   "source": [
    "i=0\n",
    "g = g1_cleaned[0:5]\n",
    "for k in g:\n",
    "    print(k.strip())"
   ]
  },
  {
   "cell_type": "code",
   "execution_count": 144,
   "metadata": {},
   "outputs": [
    {
     "data": {
      "text/plain": [
       "['atom',\n",
       " '-1',\n",
       " '0',\n",
       " '0',\n",
       " 'Co',\n",
       " 'atom',\n",
       " '1',\n",
       " '0',\n",
       " '0',\n",
       " 'Zr',\n",
       " 'atom',\n",
       " '0',\n",
       " '2',\n",
       " '0',\n",
       " 'Co',\n",
       " 'atom',\n",
       " '0',\n",
       " '4',\n",
       " '0',\n",
       " 'Co']"
      ]
     },
     "execution_count": 144,
     "metadata": {},
     "output_type": "execute_result"
    }
   ],
   "source": [
    "gs= i_geometries[1]\n",
    "gs = gs.strip()\n",
    "gs_list = gs.split(\" \")\n",
    "gs_cleaned = list(filter(lambda x: x!=\"\", gs_list))\n",
    "gs_cleaned = \"\\n\".join(gs_cleaned).split(\"\\n\")\n",
    "gs_cleaned = \"\\t\".join(gs_cleaned).split(\"\\t\")\n",
    "gs_cleaned"
   ]
  },
  {
   "cell_type": "code",
   "execution_count": 149,
   "metadata": {},
   "outputs": [
    {
     "name": "stdout",
     "output_type": "stream",
     "text": [
      "0\n",
      "I =  5\n",
      "I =  10\n",
      "I =  15\n",
      "I =  20\n",
      "1\n",
      "I =  5\n",
      "I =  10\n",
      "I =  15\n",
      "I =  20\n",
      "2\n",
      "I =  5\n",
      "I =  10\n",
      "I =  15\n",
      "I =  20\n",
      "3\n",
      "I =  5\n",
      "I =  10\n",
      "I =  15\n",
      "I =  20\n",
      "4\n",
      "I =  5\n",
      "I =  10\n",
      "I =  15\n",
      "I =  20\n",
      "5\n",
      "I =  5\n",
      "I =  10\n",
      "I =  15\n",
      "I =  20\n"
     ]
    }
   ],
   "source": [
    "text = \"\"\n",
    "j=0\n",
    "for gs in i_geometries:\n",
    "    print(j)\n",
    "    gs = gs.strip()\n",
    "    gs_list = gs.split(\" \")\n",
    "    gs_cleaned = list(filter(lambda x: x!=\"\", gs_list))\n",
    "    gs_cleaned = \"\\n\".join(gs_cleaned).split(\"\\n\")\n",
    "    gs_cleaned = \"\\t\".join(gs_cleaned).split(\"\\t\")\n",
    "\n",
    "    i=0\n",
    "    text+=f\"\"\"<table class=\"table\">\n",
    "            <tbody>\n",
    "<h3>Geometry {j+1}</h3>\"\"\"\n",
    "    while i+5<=len(gs_cleaned):\n",
    "        g = gs_cleaned[i:i+5]\n",
    "        text+=f\"\"\"<tr>\n",
    "    <td>{g[0].strip()}</td>\n",
    "    <td>{g[1].strip()}</td>\n",
    "    <td>{g[2].strip()}</td>\n",
    "    <td>{g[3].strip()}</td>\n",
    "    <td>{g[4].strip()}</td>\n",
    "    </tr>\"\"\"\n",
    "        i+=5\n",
    "        print(\"I = \", i)\n",
    "    text+=f\"\"\"</tbody>\n",
    "</table>\"\"\"\n",
    "    j+=1"
   ]
  },
  {
   "cell_type": "code",
   "execution_count": 150,
   "metadata": {},
   "outputs": [
    {
     "name": "stdout",
     "output_type": "stream",
     "text": [
      "<table class=\"table\">\n",
      "            <tbody>\n",
      "<h3>Geometry 1</h3><tr>\n",
      "    <td>atom</td>\n",
      "    <td>-1</td>\n",
      "    <td>0</td>\n",
      "    <td>0</td>\n",
      "    <td>Co</td>\n",
      "    </tr><tr>\n",
      "    <td>atom</td>\n",
      "    <td>1</td>\n",
      "    <td>0</td>\n",
      "    <td>0</td>\n",
      "    <td>Co</td>\n",
      "    </tr><tr>\n",
      "    <td>atom</td>\n",
      "    <td>0</td>\n",
      "    <td>2</td>\n",
      "    <td>0</td>\n",
      "    <td>Co</td>\n",
      "    </tr><tr>\n",
      "    <td>atom</td>\n",
      "    <td>0</td>\n",
      "    <td>4</td>\n",
      "    <td>0</td>\n",
      "    <td>Zr</td>\n",
      "    </tr></tbody>\n",
      "</table><table class=\"table\">\n",
      "            <tbody>\n",
      "<h3>Geometry 2</h3><tr>\n",
      "    <td>atom</td>\n",
      "    <td>-1</td>\n",
      "    <td>0</td>\n",
      "    <td>0</td>\n",
      "    <td>Co</td>\n",
      "    </tr><tr>\n",
      "    <td>atom</td>\n",
      "    <td>1</td>\n",
      "    <td>0</td>\n",
      "    <td>0</td>\n",
      "    <td>Zr</td>\n",
      "    </tr><tr>\n",
      "    <td>atom</td>\n",
      "    <td>0</td>\n",
      "    <td>2</td>\n",
      "    <td>0</td>\n",
      "    <td>Co</td>\n",
      "    </tr><tr>\n",
      "    <td>atom</td>\n",
      "    <td>0</td>\n",
      "    <td>4</td>\n",
      "    <td>0</td>\n",
      "    <td>Co</td>\n",
      "    </tr></tbody>\n",
      "</table><table class=\"table\">\n",
      "            <tbody>\n",
      "<h3>Geometry 3</h3><tr>\n",
      "    <td>atom</td>\n",
      "    <td>0</td>\n",
      "    <td>0</td>\n",
      "    <td>0</td>\n",
      "    <td>Zr</td>\n",
      "    </tr><tr>\n",
      "    <td>atom</td>\n",
      "    <td>2</td>\n",
      "    <td>0</td>\n",
      "    <td>0</td>\n",
      "    <td>Co</td>\n",
      "    </tr><tr>\n",
      "    <td>atom</td>\n",
      "    <td>0</td>\n",
      "    <td>2</td>\n",
      "    <td>0</td>\n",
      "    <td>Co</td>\n",
      "    </tr><tr>\n",
      "    <td>atom</td>\n",
      "    <td>0</td>\n",
      "    <td>0</td>\n",
      "    <td>2</td>\n",
      "    <td>Co</td>\n",
      "    </tr></tbody>\n",
      "</table><table class=\"table\">\n",
      "            <tbody>\n",
      "<h3>Geometry 4</h3><tr>\n",
      "    <td>atom</td>\n",
      "    <td>0</td>\n",
      "    <td>0</td>\n",
      "    <td>0</td>\n",
      "    <td>Co</td>\n",
      "    </tr><tr>\n",
      "    <td>atom</td>\n",
      "    <td>0</td>\n",
      "    <td>0</td>\n",
      "    <td>2</td>\n",
      "    <td>Co</td>\n",
      "    </tr><tr>\n",
      "    <td>atom</td>\n",
      "    <td>0</td>\n",
      "    <td>0</td>\n",
      "    <td>4</td>\n",
      "    <td>Zr</td>\n",
      "    </tr><tr>\n",
      "    <td>atom</td>\n",
      "    <td>0</td>\n",
      "    <td>0</td>\n",
      "    <td>6</td>\n",
      "    <td>Co</td>\n",
      "    </tr></tbody>\n",
      "</table><table class=\"table\">\n",
      "            <tbody>\n",
      "<h3>Geometry 5</h3><tr>\n",
      "    <td>atom</td>\n",
      "    <td>0</td>\n",
      "    <td>0</td>\n",
      "    <td>0</td>\n",
      "    <td>Co</td>\n",
      "    </tr><tr>\n",
      "    <td>atom</td>\n",
      "    <td>0</td>\n",
      "    <td>0</td>\n",
      "    <td>2</td>\n",
      "    <td>Co</td>\n",
      "    </tr><tr>\n",
      "    <td>atom</td>\n",
      "    <td>0</td>\n",
      "    <td>0</td>\n",
      "    <td>4</td>\n",
      "    <td>Co</td>\n",
      "    </tr><tr>\n",
      "    <td>atom</td>\n",
      "    <td>0</td>\n",
      "    <td>0</td>\n",
      "    <td>6</td>\n",
      "    <td>Zr</td>\n",
      "    </tr></tbody>\n",
      "</table><table class=\"table\">\n",
      "            <tbody>\n",
      "<h3>Geometry 6</h3><tr>\n",
      "    <td>atom</td>\n",
      "    <td>0</td>\n",
      "    <td>0</td>\n",
      "    <td>0</td>\n",
      "    <td>Co</td>\n",
      "    </tr><tr>\n",
      "    <td>atom</td>\n",
      "    <td>1</td>\n",
      "    <td>1</td>\n",
      "    <td>0</td>\n",
      "    <td>Zr</td>\n",
      "    </tr><tr>\n",
      "    <td>atom</td>\n",
      "    <td>0</td>\n",
      "    <td>1</td>\n",
      "    <td>0</td>\n",
      "    <td>Co</td>\n",
      "    </tr><tr>\n",
      "    <td>atom</td>\n",
      "    <td>1</td>\n",
      "    <td>0</td>\n",
      "    <td>0</td>\n",
      "    <td>Co</td>\n",
      "    </tr></tbody>\n",
      "</table>\n"
     ]
    }
   ],
   "source": [
    "print(text)"
   ]
  },
  {
   "cell_type": "code",
   "execution_count": 11,
   "metadata": {},
   "outputs": [],
   "source": [
    "def get_table(table):\n",
    "    gs = table.strip()\n",
    "    gs_list = gs.split(\" \")\n",
    "    gs_cleaned = list(filter(lambda x: x!=\"\", gs_list))\n",
    "    gs_cleaned = \"\\n\".join(gs_cleaned).split(\"\\n\")\n",
    "    gs_cleaned = \"\\t\".join(gs_cleaned).split(\"\\t\")\n",
    "\n",
    "    i=0\n",
    "    text=f\"\"\"<table class=\"table table-striped table-dark\">\n",
    "    <tbody>\"\"\"\n",
    "    while i+5<=len(gs_cleaned):\n",
    "        g = gs_cleaned[i:i+5]\n",
    "        text+=f\"\"\"<tr>\n",
    "    <td>{g[0].strip()}</td>\n",
    "    <td>{g[1].strip()}</td>\n",
    "    <td>{g[2].strip()}</td>\n",
    "    <td>{g[3].strip()}</td>\n",
    "    <td><b>{g[4].strip()}</b></td>\n",
    "    </tr>\"\"\"\n",
    "        i+=5\n",
    "    text+=f\"\"\"</tbody>\n",
    "    </table>\"\"\"\n",
    "\n",
    "    return text"
   ]
  },
  {
   "cell_type": "code",
   "execution_count": 13,
   "metadata": {},
   "outputs": [],
   "source": [
    "import pyperclip\n",
    "pyperclip.copy(get_table(f_geometries[6]))"
   ]
  },
  {
   "cell_type": "code",
   "execution_count": 173,
   "metadata": {},
   "outputs": [
    {
     "name": "stdout",
     "output_type": "stream",
     "text": [
      "<table class=\"table table-striped table-dark\">\n",
      "    <tbody><tr>\n",
      "    <td>atom</td>\n",
      "    <td>0</td>\n",
      "    <td>0</td>\n",
      "    <td>0</td>\n",
      "    <td><b>Co</b></td>\n",
      "    </tr><tr>\n",
      "    <td>atom</td>\n",
      "    <td>1</td>\n",
      "    <td>1</td>\n",
      "    <td>0</td>\n",
      "    <td><b>Zr</b></td>\n",
      "    </tr><tr>\n",
      "    <td>atom</td>\n",
      "    <td>0</td>\n",
      "    <td>1</td>\n",
      "    <td>0</td>\n",
      "    <td><b>Co</b></td>\n",
      "    </tr><tr>\n",
      "    <td>atom</td>\n",
      "    <td>1</td>\n",
      "    <td>0</td>\n",
      "    <td>0</td>\n",
      "    <td><b>Co</b></td>\n",
      "    </tr></tbody>\n",
      "    </table>\n"
     ]
    }
   ],
   "source": [
    "print(get_table(i_geometries[5]))"
   ]
  },
  {
   "cell_type": "code",
   "execution_count": 168,
   "metadata": {},
   "outputs": [
    {
     "data": {
      "text/plain": [
       "'-212992.912984'"
      ]
     },
     "execution_count": 168,
     "metadata": {},
     "output_type": "execute_result"
    }
   ],
   "source": [
    "energies[3]"
   ]
  },
  {
   "cell_type": "markdown",
   "metadata": {},
   "source": [
    "$$ E = E_{atomic} + 2\\gamma\\cos(ka)$$"
   ]
  },
  {
   "cell_type": "code",
   "execution_count": 1,
   "metadata": {},
   "outputs": [],
   "source": [
    "import numpy as np\n",
    "import matplotlib.pyplot as plt"
   ]
  },
  {
   "cell_type": "code",
   "execution_count": 19,
   "metadata": {},
   "outputs": [
    {
     "data": {
      "image/png": "[encoded data removed]",
      "text/plain": [
       "<Figure size 432x288 with 1 Axes>"
      ]
     },
     "metadata": {
      "needs_background": "light"
     },
     "output_type": "display_data"
    }
   ],
   "source": [
    "Eat1 = 5\n",
    "Eat2 = 0\n",
    "gamma1 = 1\n",
    "gamma2 = -1\n",
    "k = np.linspace(-np.pi, np.pi, 100)\n",
    "E1 = Eat1 + 2*gamma1*np.cos(k)\n",
    "E2 = Eat2 + 2*gamma2*np.cos(k)\n",
    "plt.plot(k, E1, \"r\", label=\"E1\")\n",
    "plt.plot(k, E2, \"b\", label=\"E2\")\n",
    "plt.legend();"
   ]
  },
  {
   "cell_type": "code",
   "execution_count": null,
   "metadata": {},
   "outputs": [],
   "source": []
  }
 ],
 "metadata": {
  "interpreter": {
   "hash": "ce44b17c45080b8f56a19c9450d52461d624c968fcd959bb1916985c5ffa2b94"
  },
  "kernelspec": {
   "display_name": "Python 3.8.5 64-bit ('base': conda)",
   "language": "python",
   "name": "python3"
  },
  "language_info": {
   "codemirror_mode": {
    "name": "ipython",
    "version": 3
   },
   "file_extension": ".py",
   "mimetype": "text/x-python",
   "name": "python",
   "nbconvert_exporter": "python",
   "pygments_lexer": "ipython3",
   "version": "3.8.5"
  },
  "orig_nbformat": 4
 },
 "nbformat": 4,
 "nbformat_minor": 2
}
