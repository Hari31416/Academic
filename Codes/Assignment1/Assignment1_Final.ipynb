{
 "cells": [
  {
   "cell_type": "markdown",
   "metadata": {},
   "source": [
    "<table class=\"tfo-notebook-buttons\" align=\"left\">\n",
    "<td style=\"border: none;\">\n",
    "<a target=\"blank\" href=\"https://colab.research.google.com/github/Hari31416/Academic/blob/main/Codes/Assignment1/Assignment1_Final.ipynb?hl=en\"><img src=\"https://colab.research.google.com/img/colab_favicon_256px.png\" width=\"28\" height=\"28\"/>Run on Google Colab</a></td>\n",
    "<td style=\"border: none;\">\n",
    "<a target=\"blank\" href=\"https://github.com/Hari31416/Academic/blob/main/Codes/Assignment1/Assignment1_Final.ipynb\"><img src=\"https://cdn.icon-icons.com/icons2/2368/PNG/512/github_logo_icon_143772.png\" width=\"28\" height=\"28\"/>View on Github</a></td>\n",
    "<td style=\"border: none;\">\n",
    "</table>"
   ]
  },
  {
   "cell_type": "markdown",
   "metadata": {},
   "source": [
    "<hr>\n",
    "<center><h3 style=\"text-decoration:underline\">Assignment 1</h3></center>\n",
    "<p><b>Name</b>: Harikesh Kushwaha</p>\n",
    "<p><b>Entry Number</b>: 2021PHS7181</p>\n",
    "<hr>"
   ]
  },
  {
   "cell_type": "markdown",
   "metadata": {},
   "source": [
    "## Imports"
   ]
  },
  {
   "cell_type": "code",
   "execution_count": 1,
   "metadata": {},
   "outputs": [],
   "source": [
    "import numpy as np\n",
    "import matplotlib.pyplot as plt\n",
    "from sympy import *"
   ]
  },
  {
   "cell_type": "markdown",
   "metadata": {},
   "source": [
    "### Defining a Function to get the energy corresponding to a given K."
   ]
  },
  {
   "cell_type": "code",
   "execution_count": 2,
   "metadata": {},
   "outputs": [],
   "source": [
    "def give_energy(K, h=1, m=1):\n",
    "    \"\"\"\n",
    "    This function calculates the energy of a particle in a potential\n",
    "    field.\n",
    "    \"\"\"\n",
    "    return (h**2*K**2)/(2*m)\n",
    "\n",
    "give_energy = np.vectorize(give_energy)"
   ]
  },
  {
   "cell_type": "markdown",
   "metadata": {},
   "source": [
    "## Solution"
   ]
  },
  {
   "cell_type": "markdown",
   "metadata": {},
   "source": [
    "### Defining the Matrix"
   ]
  },
  {
   "cell_type": "markdown",
   "metadata": {},
   "source": [
    "The final matrix, that we get is:\n",
    "$$M = \n",
    "\\begin{bmatrix}\n",
    "\\frac{\\hbar^2K^2}{2m}-E & V_{\\frac{-2\\pi}{a}}& V_{\\frac{2\\pi}{a}} \\\\\n",
    "V_{\\frac{2\\pi}{a}} & \\frac{\\hbar^2(K+\\frac{2\\pi}{a})^2}{2m}-E & V_{\\frac{4\\pi}{a}} \\\\\n",
    "V_{\\frac{-2\\pi}{a}} & V_{\\frac{-4\\pi}{a}} & \\frac{\\hbar^2(K-\\frac{2\\pi}{a})^2}{2m}-E\n",
    "\\end{bmatrix}\n",
    "$$\n",
    "We need to diagonalize this. This can either be down by setting the determinant of E to zero:\n",
    "$$ det(M) = 0 $$\n",
    "Setting the determinant to zero will give us a third order eqaution in E, solving which gives three distinct roots which are the required energies.\n",
    "\n",
    "**Or alternatively, the same can also be done by finding the eigenvalues of the matrix M. But we'll use the first method.**"
   ]
  },
  {
   "cell_type": "code",
   "execution_count": 3,
   "metadata": {},
   "outputs": [],
   "source": [
    "#Setting the variables\n",
    "E = Symbol('E')\n",
    "Vp = Symbol('V', complex=True)\n",
    "Vm = Vp.conjugate()\n",
    "Vpp = Symbol('Vp', complex=True)\n",
    "Vmm = Vpp.conjugate()\n",
    "E0 = Symbol('E0')\n",
    "Ep = Symbol('Ep')\n",
    "Em = Symbol('Em')"
   ]
  },
  {
   "cell_type": "code",
   "execution_count": 4,
   "metadata": {},
   "outputs": [
    {
     "data": {
      "text/latex": [
       "$\\displaystyle \\left[\\begin{matrix}- E + E_{0} & \\overline{V} & V\\\\\\overline{V} & - E + Ep & Vp\\\\V & \\overline{Vp} & - E + Em\\end{matrix}\\right]$"
      ],
      "text/plain": [
       "Matrix([\n",
       "[     -E + E0,  conjugate(V),       V],\n",
       "[conjugate(V),       -E + Ep,      Vp],\n",
       "[           V, conjugate(Vp), -E + Em]])"
      ]
     },
     "execution_count": 4,
     "metadata": {},
     "output_type": "execute_result"
    }
   ],
   "source": [
    "#Creating the matrix\n",
    "mat = Matrix([[E0-E, Vm, Vp], [Vm, Ep-E, Vpp], [Vp, Vmm, Em-E]])\n",
    "mat"
   ]
  },
  {
   "cell_type": "markdown",
   "metadata": {},
   "source": [
    "Here for simplicity, We have used:\n",
    "$$E_0 = \\frac{\\hbar^2K^2}{2a^2}$$\n",
    "$$ E_p = \\frac{\\hbar^2(K+\\frac{2\\pi}{a})^2}{2a^2}$$\n",
    "$$ E_m = \\frac{\\hbar^2(K-\\frac{2\\pi}{a})^2}{2a^2}$$\n",
    "$$ V = V_{\\frac{-2\\pi}{a}}$$\n",
    "$$ \\bar{V} = V_{\\frac{2\\pi}{a}}$$\n",
    "$$ V_p = V_{\\frac{4\\pi}{a}}$$\n",
    "$$ \\bar{V_p} = V_{\\frac{-4\\pi}{a}}$$"
   ]
  },
  {
   "cell_type": "markdown",
   "metadata": {},
   "source": [
    "### Solving for E"
   ]
  },
  {
   "cell_type": "markdown",
   "metadata": {},
   "source": [
    "If we solve the equation symbolically for E, we'll get a HUGE expression for E. To make the expression smaller, we'll set the values of $V$ and $V_P$ to be equal to 1."
   ]
  },
  {
   "cell_type": "code",
   "execution_count": 5,
   "metadata": {},
   "outputs": [
    {
     "data": {
      "text/latex": [
       "$\\displaystyle - E^{3} + E^{2} E_{0} + E^{2} Em + E^{2} Ep - E E_{0} Em - E E_{0} Ep - E Em Ep + 3 E + E_{0} Em Ep - E_{0} - Em - Ep + 2$"
      ],
      "text/plain": [
       "-E**3 + E**2*E0 + E**2*Em + E**2*Ep - E*E0*Em - E*E0*Ep - E*Em*Ep + 3*E + E0*Em*Ep - E0 - Em - Ep + 2"
      ]
     },
     "execution_count": 5,
     "metadata": {},
     "output_type": "execute_result"
    }
   ],
   "source": [
    "#Getting the determinant\n",
    "eq = mat.det()\n",
    "#Substituting Vp = Vpp =1 to simplify the equation\n",
    "eq = eq.subs(Vp, 1)\n",
    "eq = eq.subs(Vpp, 1)\n",
    "eq"
   ]
  },
  {
   "cell_type": "markdown",
   "metadata": {},
   "source": [
    "Now, we need to solve for E in terms of $E_0$, $E_M$ and $E_P$. `sympy` has a function `solve` which solves the equation symbolically."
   ]
  },
  {
   "cell_type": "code",
   "execution_count": 6,
   "metadata": {},
   "outputs": [
    {
     "data": {
      "text/plain": [
       "3"
      ]
     },
     "execution_count": 6,
     "metadata": {},
     "output_type": "execute_result"
    }
   ],
   "source": [
    "Es = solve(eq, E)\n",
    "len(Es)"
   ]
  },
  {
   "cell_type": "markdown",
   "metadata": {},
   "source": [
    "Since the equation was third order, we should get three different solutions of E. We can see from the output of the above cell, `len(Es)` is indeed 3. Let's see what these three solutions are:"
   ]
  },
  {
   "cell_type": "markdown",
   "metadata": {},
   "source": [
    "**First Solution**"
   ]
  },
  {
   "cell_type": "code",
   "execution_count": 7,
   "metadata": {},
   "outputs": [
    {
     "data": {
      "text/latex": [
       "$\\displaystyle \\frac{E_{0}}{3} + \\frac{Em}{3} + \\frac{Ep}{3} - \\frac{- 3 E_{0} Em - 3 E_{0} Ep - 3 Em Ep + \\left(- E_{0} - Em - Ep\\right)^{2} + 9}{3 \\sqrt[3]{- \\frac{27 E_{0} Em Ep}{2} + \\frac{27 E_{0}}{2} + \\frac{27 Em}{2} + \\frac{27 Ep}{2} + \\frac{\\sqrt{- 4 \\left(- 3 E_{0} Em - 3 E_{0} Ep - 3 Em Ep + \\left(- E_{0} - Em - Ep\\right)^{2} + 9\\right)^{3} + \\left(- 27 E_{0} Em Ep + 27 E_{0} + 27 Em + 27 Ep - \\left(- 9 E_{0} - 9 Em - 9 Ep\\right) \\left(E_{0} Em + E_{0} Ep + Em Ep - 3\\right) + 2 \\left(- E_{0} - Em - Ep\\right)^{3} - 54\\right)^{2}}}{2} - \\frac{\\left(- 9 E_{0} - 9 Em - 9 Ep\\right) \\left(E_{0} Em + E_{0} Ep + Em Ep - 3\\right)}{2} + \\left(- E_{0} - Em - Ep\\right)^{3} - 27}} - \\frac{\\sqrt[3]{- \\frac{27 E_{0} Em Ep}{2} + \\frac{27 E_{0}}{2} + \\frac{27 Em}{2} + \\frac{27 Ep}{2} + \\frac{\\sqrt{- 4 \\left(- 3 E_{0} Em - 3 E_{0} Ep - 3 Em Ep + \\left(- E_{0} - Em - Ep\\right)^{2} + 9\\right)^{3} + \\left(- 27 E_{0} Em Ep + 27 E_{0} + 27 Em + 27 Ep - \\left(- 9 E_{0} - 9 Em - 9 Ep\\right) \\left(E_{0} Em + E_{0} Ep + Em Ep - 3\\right) + 2 \\left(- E_{0} - Em - Ep\\right)^{3} - 54\\right)^{2}}}{2} - \\frac{\\left(- 9 E_{0} - 9 Em - 9 Ep\\right) \\left(E_{0} Em + E_{0} Ep + Em Ep - 3\\right)}{2} + \\left(- E_{0} - Em - Ep\\right)^{3} - 27}}{3}$"
      ],
      "text/plain": [
       "E0/3 + Em/3 + Ep/3 - (-3*E0*Em - 3*E0*Ep - 3*Em*Ep + (-E0 - Em - Ep)**2 + 9)/(3*(-27*E0*Em*Ep/2 + 27*E0/2 + 27*Em/2 + 27*Ep/2 + sqrt(-4*(-3*E0*Em - 3*E0*Ep - 3*Em*Ep + (-E0 - Em - Ep)**2 + 9)**3 + (-27*E0*Em*Ep + 27*E0 + 27*Em + 27*Ep - (-9*E0 - 9*Em - 9*Ep)*(E0*Em + E0*Ep + Em*Ep - 3) + 2*(-E0 - Em - Ep)**3 - 54)**2)/2 - (-9*E0 - 9*Em - 9*Ep)*(E0*Em + E0*Ep + Em*Ep - 3)/2 + (-E0 - Em - Ep)**3 - 27)**(1/3)) - (-27*E0*Em*Ep/2 + 27*E0/2 + 27*Em/2 + 27*Ep/2 + sqrt(-4*(-3*E0*Em - 3*E0*Ep - 3*Em*Ep + (-E0 - Em - Ep)**2 + 9)**3 + (-27*E0*Em*Ep + 27*E0 + 27*Em + 27*Ep - (-9*E0 - 9*Em - 9*Ep)*(E0*Em + E0*Ep + Em*Ep - 3) + 2*(-E0 - Em - Ep)**3 - 54)**2)/2 - (-9*E0 - 9*Em - 9*Ep)*(E0*Em + E0*Ep + Em*Ep - 3)/2 + (-E0 - Em - Ep)**3 - 27)**(1/3)/3"
      ]
     },
     "execution_count": 7,
     "metadata": {},
     "output_type": "execute_result"
    }
   ],
   "source": [
    "E1 = Es[0]\n",
    "E1"
   ]
  },
  {
   "cell_type": "markdown",
   "metadata": {},
   "source": [
    "**Second Solution**"
   ]
  },
  {
   "cell_type": "code",
   "execution_count": 8,
   "metadata": {},
   "outputs": [
    {
     "data": {
      "text/latex": [
       "$\\displaystyle \\frac{E_{0}}{3} + \\frac{Em}{3} + \\frac{Ep}{3} - \\frac{- 3 E_{0} Em - 3 E_{0} Ep - 3 Em Ep + \\left(- E_{0} - Em - Ep\\right)^{2} + 9}{3 \\left(- \\frac{1}{2} - \\frac{\\sqrt{3} i}{2}\\right) \\sqrt[3]{- \\frac{27 E_{0} Em Ep}{2} + \\frac{27 E_{0}}{2} + \\frac{27 Em}{2} + \\frac{27 Ep}{2} + \\frac{\\sqrt{- 4 \\left(- 3 E_{0} Em - 3 E_{0} Ep - 3 Em Ep + \\left(- E_{0} - Em - Ep\\right)^{2} + 9\\right)^{3} + \\left(- 27 E_{0} Em Ep + 27 E_{0} + 27 Em + 27 Ep - \\left(- 9 E_{0} - 9 Em - 9 Ep\\right) \\left(E_{0} Em + E_{0} Ep + Em Ep - 3\\right) + 2 \\left(- E_{0} - Em - Ep\\right)^{3} - 54\\right)^{2}}}{2} - \\frac{\\left(- 9 E_{0} - 9 Em - 9 Ep\\right) \\left(E_{0} Em + E_{0} Ep + Em Ep - 3\\right)}{2} + \\left(- E_{0} - Em - Ep\\right)^{3} - 27}} - \\frac{\\left(- \\frac{1}{2} - \\frac{\\sqrt{3} i}{2}\\right) \\sqrt[3]{- \\frac{27 E_{0} Em Ep}{2} + \\frac{27 E_{0}}{2} + \\frac{27 Em}{2} + \\frac{27 Ep}{2} + \\frac{\\sqrt{- 4 \\left(- 3 E_{0} Em - 3 E_{0} Ep - 3 Em Ep + \\left(- E_{0} - Em - Ep\\right)^{2} + 9\\right)^{3} + \\left(- 27 E_{0} Em Ep + 27 E_{0} + 27 Em + 27 Ep - \\left(- 9 E_{0} - 9 Em - 9 Ep\\right) \\left(E_{0} Em + E_{0} Ep + Em Ep - 3\\right) + 2 \\left(- E_{0} - Em - Ep\\right)^{3} - 54\\right)^{2}}}{2} - \\frac{\\left(- 9 E_{0} - 9 Em - 9 Ep\\right) \\left(E_{0} Em + E_{0} Ep + Em Ep - 3\\right)}{2} + \\left(- E_{0} - Em - Ep\\right)^{3} - 27}}{3}$"
      ],
      "text/plain": [
       "E0/3 + Em/3 + Ep/3 - (-3*E0*Em - 3*E0*Ep - 3*Em*Ep + (-E0 - Em - Ep)**2 + 9)/(3*(-1/2 - sqrt(3)*I/2)*(-27*E0*Em*Ep/2 + 27*E0/2 + 27*Em/2 + 27*Ep/2 + sqrt(-4*(-3*E0*Em - 3*E0*Ep - 3*Em*Ep + (-E0 - Em - Ep)**2 + 9)**3 + (-27*E0*Em*Ep + 27*E0 + 27*Em + 27*Ep - (-9*E0 - 9*Em - 9*Ep)*(E0*Em + E0*Ep + Em*Ep - 3) + 2*(-E0 - Em - Ep)**3 - 54)**2)/2 - (-9*E0 - 9*Em - 9*Ep)*(E0*Em + E0*Ep + Em*Ep - 3)/2 + (-E0 - Em - Ep)**3 - 27)**(1/3)) - (-1/2 - sqrt(3)*I/2)*(-27*E0*Em*Ep/2 + 27*E0/2 + 27*Em/2 + 27*Ep/2 + sqrt(-4*(-3*E0*Em - 3*E0*Ep - 3*Em*Ep + (-E0 - Em - Ep)**2 + 9)**3 + (-27*E0*Em*Ep + 27*E0 + 27*Em + 27*Ep - (-9*E0 - 9*Em - 9*Ep)*(E0*Em + E0*Ep + Em*Ep - 3) + 2*(-E0 - Em - Ep)**3 - 54)**2)/2 - (-9*E0 - 9*Em - 9*Ep)*(E0*Em + E0*Ep + Em*Ep - 3)/2 + (-E0 - Em - Ep)**3 - 27)**(1/3)/3"
      ]
     },
     "execution_count": 8,
     "metadata": {},
     "output_type": "execute_result"
    }
   ],
   "source": [
    "E2 = Es[1]\n",
    "E2"
   ]
  },
  {
   "cell_type": "markdown",
   "metadata": {},
   "source": [
    "**Third Solution**"
   ]
  },
  {
   "cell_type": "code",
   "execution_count": 9,
   "metadata": {},
   "outputs": [
    {
     "data": {
      "text/latex": [
       "$\\displaystyle \\frac{E_{0}}{3} + \\frac{Em}{3} + \\frac{Ep}{3} - \\frac{- 3 E_{0} Em - 3 E_{0} Ep - 3 Em Ep + \\left(- E_{0} - Em - Ep\\right)^{2} + 9}{3 \\left(- \\frac{1}{2} + \\frac{\\sqrt{3} i}{2}\\right) \\sqrt[3]{- \\frac{27 E_{0} Em Ep}{2} + \\frac{27 E_{0}}{2} + \\frac{27 Em}{2} + \\frac{27 Ep}{2} + \\frac{\\sqrt{- 4 \\left(- 3 E_{0} Em - 3 E_{0} Ep - 3 Em Ep + \\left(- E_{0} - Em - Ep\\right)^{2} + 9\\right)^{3} + \\left(- 27 E_{0} Em Ep + 27 E_{0} + 27 Em + 27 Ep - \\left(- 9 E_{0} - 9 Em - 9 Ep\\right) \\left(E_{0} Em + E_{0} Ep + Em Ep - 3\\right) + 2 \\left(- E_{0} - Em - Ep\\right)^{3} - 54\\right)^{2}}}{2} - \\frac{\\left(- 9 E_{0} - 9 Em - 9 Ep\\right) \\left(E_{0} Em + E_{0} Ep + Em Ep - 3\\right)}{2} + \\left(- E_{0} - Em - Ep\\right)^{3} - 27}} - \\frac{\\left(- \\frac{1}{2} + \\frac{\\sqrt{3} i}{2}\\right) \\sqrt[3]{- \\frac{27 E_{0} Em Ep}{2} + \\frac{27 E_{0}}{2} + \\frac{27 Em}{2} + \\frac{27 Ep}{2} + \\frac{\\sqrt{- 4 \\left(- 3 E_{0} Em - 3 E_{0} Ep - 3 Em Ep + \\left(- E_{0} - Em - Ep\\right)^{2} + 9\\right)^{3} + \\left(- 27 E_{0} Em Ep + 27 E_{0} + 27 Em + 27 Ep - \\left(- 9 E_{0} - 9 Em - 9 Ep\\right) \\left(E_{0} Em + E_{0} Ep + Em Ep - 3\\right) + 2 \\left(- E_{0} - Em - Ep\\right)^{3} - 54\\right)^{2}}}{2} - \\frac{\\left(- 9 E_{0} - 9 Em - 9 Ep\\right) \\left(E_{0} Em + E_{0} Ep + Em Ep - 3\\right)}{2} + \\left(- E_{0} - Em - Ep\\right)^{3} - 27}}{3}$"
      ],
      "text/plain": [
       "E0/3 + Em/3 + Ep/3 - (-3*E0*Em - 3*E0*Ep - 3*Em*Ep + (-E0 - Em - Ep)**2 + 9)/(3*(-1/2 + sqrt(3)*I/2)*(-27*E0*Em*Ep/2 + 27*E0/2 + 27*Em/2 + 27*Ep/2 + sqrt(-4*(-3*E0*Em - 3*E0*Ep - 3*Em*Ep + (-E0 - Em - Ep)**2 + 9)**3 + (-27*E0*Em*Ep + 27*E0 + 27*Em + 27*Ep - (-9*E0 - 9*Em - 9*Ep)*(E0*Em + E0*Ep + Em*Ep - 3) + 2*(-E0 - Em - Ep)**3 - 54)**2)/2 - (-9*E0 - 9*Em - 9*Ep)*(E0*Em + E0*Ep + Em*Ep - 3)/2 + (-E0 - Em - Ep)**3 - 27)**(1/3)) - (-1/2 + sqrt(3)*I/2)*(-27*E0*Em*Ep/2 + 27*E0/2 + 27*Em/2 + 27*Ep/2 + sqrt(-4*(-3*E0*Em - 3*E0*Ep - 3*Em*Ep + (-E0 - Em - Ep)**2 + 9)**3 + (-27*E0*Em*Ep + 27*E0 + 27*Em + 27*Ep - (-9*E0 - 9*Em - 9*Ep)*(E0*Em + E0*Ep + Em*Ep - 3) + 2*(-E0 - Em - Ep)**3 - 54)**2)/2 - (-9*E0 - 9*Em - 9*Ep)*(E0*Em + E0*Ep + Em*Ep - 3)/2 + (-E0 - Em - Ep)**3 - 27)**(1/3)/3"
      ]
     },
     "execution_count": 9,
     "metadata": {},
     "output_type": "execute_result"
    }
   ],
   "source": [
    "E3  = Es[2]\n",
    "E3"
   ]
  },
  {
   "cell_type": "markdown",
   "metadata": {},
   "source": [
    "The solutions are still quite big and complex. The reason behind this is that `sympy` is not very good at simplifying expressions, so it is giving us a huge expression."
   ]
  },
  {
   "cell_type": "markdown",
   "metadata": {},
   "source": [
    "### Plotting the Energy Curves"
   ]
  },
  {
   "cell_type": "markdown",
   "metadata": {},
   "source": [
    "Final step is evaluating the energy of the system by substituting the values of $E_P$, $E_M$ and $E_0$ into the equation. We already have a function `give_energy` that returns the energy E, given k, m and a. By default, $m=\\hbar=1$. We'll use this defualt values. However, we can easily pass m and h (which is the placeholder for $\\hbar$) as arguments to the function in place of `**kwargs` to change the default values."
   ]
  },
  {
   "cell_type": "code",
   "execution_count": 10,
   "metadata": {},
   "outputs": [],
   "source": [
    "def substitute(E, K, **kwargs):\n",
    "    \"\"\"\n",
    "    Takes the symbolical value of E and returns numerical value of E after making \n",
    "    all the substitutions and for a specific K value.\n",
    "    \"\"\"\n",
    "    #Substituing E0\n",
    "    E_num = E.subs(E0, give_energy(K=K, **kwargs))\n",
    "    #Substituing Ep which is nothing but E0 with K= K + G and as G = 2*pi, so\n",
    "    #K = K + 2*pi/a. We'll be Using a=1 for simplicity\n",
    "    E_num = E_num.subs(Ep, give_energy(K=K+2*np.pi, **kwargs))\n",
    "    #Substituing Em which is nothing but E0 with K= K - G and as G = 2*pi, so\n",
    "    #K = K - 2*pi. Again, we'll be Using a=1 for simplicity\n",
    "    E_num = E_num.subs(Em, give_energy(K=K-2*np.pi, **kwargs))\n",
    "    E_num = E_num.evalf()\n",
    "    #Sometimes, we are getting a complex number, with very small imaginary part,\n",
    "    #order of magnitute about 1e-15 because of the precision of the computer.\n",
    "    #So, we are removing the imaginary part using the line below\n",
    "    E_num = E_num.subs(I, 0)\n",
    "    return E_num\n",
    "\n",
    "#Finally, we'll vectorize the function to run it faster\n",
    "substitute = np.vectorize(substitute)"
   ]
  },
  {
   "cell_type": "markdown",
   "metadata": {},
   "source": [
    "Let's do a sanity check!"
   ]
  },
  {
   "cell_type": "code",
   "execution_count": 11,
   "metadata": {},
   "outputs": [
    {
     "name": "stdout",
     "output_type": "stream",
     "text": [
      "0.026544447872931975\n",
      "16.60906075547166\n",
      "23.217812401012836\n",
      "3.9348022005446843\n",
      "5.88289503360872\n",
      "44.46512697183807\n"
     ]
    }
   ],
   "source": [
    "print(float(substitute(E1, 0.5)))\n",
    "print(float(substitute(E2, 0.5)))\n",
    "print(float(substitute(E3, 0.5)))\n",
    "print(float(substitute(E1, np.pi)))\n",
    "print(float(substitute(E2, np.pi)))\n",
    "print(float(substitute(E3, np.pi)))"
   ]
  },
  {
   "cell_type": "markdown",
   "metadata": {},
   "source": [
    "So, it is working. Let's plot them."
   ]
  },
  {
   "cell_type": "code",
   "execution_count": 12,
   "metadata": {},
   "outputs": [],
   "source": [
    "#Defining K values\n",
    "K = np.linspace(-1.1*np.pi, 1.1*np.pi, 500)\n",
    "\n",
    "#Getting the values of energies\n",
    "Ev1 = substitute(E1, K)\n",
    "Ev2 = substitute(E2, K)\n",
    "Ev3 = substitute(E3, K)"
   ]
  },
  {
   "cell_type": "code",
   "execution_count": 13,
   "metadata": {},
   "outputs": [
    {
     "data": {
      "image/png": "[encoded data removed]",
      "text/plain": [
       "<Figure size 720x576 with 1 Axes>"
      ]
     },
     "metadata": {
      "needs_background": "light"
     },
     "output_type": "display_data"
    }
   ],
   "source": [
    "%matplotlib inline\n",
    "\n",
    "#Setting Figure Size\n",
    "plt.figure(figsize=(10,8))\n",
    "\n",
    "#Plotting the three energies\n",
    "plt.plot(K, Ev1, 'r', label='$E_1$')\n",
    "plt.plot(K, Ev2, 'g', label='$E_2$')\n",
    "plt.plot(K, Ev3, 'b', label='$E_3$')\n",
    "\n",
    "#Making three vertical lines, one for x=0, ie. y-axis\n",
    "#and two for x=pi, and x= -pi\n",
    "\n",
    "plt.vlines(0,0,85, color='black', linewidth=2)\n",
    "plt.vlines(np.pi,0,85, color='indigo', linestyle='dashed')\n",
    "plt.vlines(-np.pi,0,85, color='indigo', linestyle='dashed')\n",
    "\n",
    "#Setting the x and y labels and title\n",
    "plt.xlabel('K', fontsize=16)\n",
    "plt.ylabel('E', fontsize=16)\n",
    "plt.title('E vs K Graph', fontsize=16)\n",
    "\n",
    "#Setting the xlimit and ylimit\n",
    "plt.xlim(-1.1*np.pi,1.1*np.pi)\n",
    "plt.ylim(0,50)\n",
    "\n",
    "#Modifying the xticks and making the ticks larger\n",
    "plt.xticks([-np.pi,-2, 0, 2, np.pi],\n",
    "     ['-$\\pi$','2','0', '2', '$\\pi$'],\n",
    "     fontsize=14)\n",
    "plt.yticks(fontsize=14)\n",
    "\n",
    "#Placing the legends\n",
    "plt.legend(loc='upper center',fontsize=14);"
   ]
  },
  {
   "cell_type": "markdown",
   "metadata": {},
   "source": [
    "This completes the assignment."
   ]
  }
 ],
 "metadata": {
  "interpreter": {
   "hash": "ce44b17c45080b8f56a19c9450d52461d624c968fcd959bb1916985c5ffa2b94"
  },
  "kernelspec": {
   "display_name": "Python 3.8.5 64-bit ('base': conda)",
   "language": "python",
   "name": "python3"
  },
  "language_info": {
   "codemirror_mode": {
    "name": "ipython",
    "version": 3
   },
   "file_extension": ".py",
   "mimetype": "text/x-python",
   "name": "python",
   "nbconvert_exporter": "python",
   "pygments_lexer": "ipython3",
   "version": "3.8.5"
  },
  "orig_nbformat": 4
 },
 "nbformat": 4,
 "nbformat_minor": 2
}
