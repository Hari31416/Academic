{
 "cells": [
  {
   "cell_type": "code",
   "execution_count": 1,
   "metadata": {},
   "outputs": [],
   "source": [
    "import os\n",
    "import shutil"
   ]
  },
  {
   "cell_type": "code",
   "execution_count": 2,
   "metadata": {},
   "outputs": [
    {
     "data": {
      "text/plain": [
       "['aims_sub.sh', 'control.in', 'geometry.in', 'tool.ipynb']"
      ]
     },
     "execution_count": 2,
     "metadata": {},
     "output_type": "execute_result"
    }
   ],
   "source": [
    "files = os.listdir(os.curdir)\n",
    "files = files[:-1]\n",
    "files"
   ]
  },
  {
   "cell_type": "code",
   "execution_count": 3,
   "metadata": {},
   "outputs": [
    {
     "name": "stdout",
     "output_type": "stream",
     "text": [
      "Done run 1\n",
      "Done run 2\n",
      "Done run 3\n",
      "Done run 4\n",
      "Done run 5\n",
      "Done run 6\n",
      "Done run 7\n",
      "Done run 8\n",
      "Done run 9\n",
      "Done run 10\n"
     ]
    }
   ],
   "source": [
    "points = [\n",
    "    \"1 1 1\", \n",
    "    \"2 2 1\" ,\n",
    "    \"2 2 2\" ,\n",
    "    \"3 3 1\" ,\n",
    "    \"3 3 2\" ,\n",
    "    \"4 4 1\" ,\n",
    "    \"4 4 2\" ,\n",
    "    # \"4 4 3\" ,\n",
    "    \"5 5 1\" ,\n",
    "    \"5 5 2\" ,\n",
    "    \"5 5 3\" ,\n",
    "    # \"5 5 4\" ,\n",
    "]\n",
    "\n",
    "assert len(points) <= 10 \n",
    "\n",
    "with open(\"control.in\") as f:\n",
    "    text = f.read()\n",
    "\n",
    "for i in range(10):\n",
    "    os.makedirs(\"run\"+str(i+1), exist_ok=True)\n",
    "    shutil.copy(\"aims_sub.sh\", \"run\"+str(i+1))\n",
    "    shutil.copy(\"geometry.in\", \"run\"+str(i+1))\n",
    "    # shutil.copy(\"control.in\", \"run\"+str(i+1))\n",
    "\n",
    "    with open(\"run\"+str(i+1)+\"/control.in\", \"w\") as f:\n",
    "        text_new = text.replace(\"fillme\", str(points[i]))\n",
    "        f.write(text_new)\n",
    "    print(\"Done run\", i+1)\n",
    "    "
   ]
  },
  {
   "cell_type": "code",
   "execution_count": null,
   "metadata": {},
   "outputs": [],
   "source": []
  }
 ],
 "metadata": {
  "interpreter": {
   "hash": "ce44b17c45080b8f56a19c9450d52461d624c968fcd959bb1916985c5ffa2b94"
  },
  "kernelspec": {
   "display_name": "Python 3.8.5",
   "language": "python",
   "name": "python3"
  },
  "language_info": {
   "codemirror_mode": {
    "name": "ipython",
    "version": 3
   },
   "file_extension": ".py",
   "mimetype": "text/x-python",
   "name": "python",
   "nbconvert_exporter": "python",
   "pygments_lexer": "ipython3",
   "version": "3.8.5"
  },
  "orig_nbformat": 4
 },
 "nbformat": 4,
 "nbformat_minor": 2
}
